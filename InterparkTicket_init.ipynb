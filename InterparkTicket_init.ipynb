{
 "cells": [
  {
   "cell_type": "markdown",
   "metadata": {},
   "source": [
    "## 인터파크티켓 크롤링\n",
    "#### 공연 개별 상세페이지에서 정보 가져오기"
   ]
  },
  {
   "cell_type": "code",
   "execution_count": 1,
   "metadata": {},
   "outputs": [],
   "source": [
    "from selenium import webdriver\n",
    "import time\n",
    "\n",
    "path=\"C:/Users/YYJ/Desktop/myPython/chromedriver.exe\"\n",
    "driver=webdriver.Chrome(path)"
   ]
  },
  {
   "cell_type": "code",
   "execution_count": 2,
   "metadata": {},
   "outputs": [],
   "source": [
    "def get_data(ptype):\n",
    "    \n",
    "    p_keys=['Type', 'Title', 'Subtitle', 'Venue', 'open_Date', 'end_Date', 'Performer']\n",
    "    subtitle=venue=o_date=e_date=''\n",
    "    performer=[]\n",
    "    \n",
    "    # Title\n",
    "    title=driver.find_element_by_id('IDGoodsName').text\n",
    "    \n",
    "    elem=driver.find_element_by_id('TabA')\n",
    "    for dl in elem.find_elements_by_tag_name('dl'):\n",
    "        info_type=dl.find_element_by_tag_name('dt')\n",
    "        info_data=dl.find_element_by_tag_name('dd')\n",
    "        \n",
    "    # Subtitle, Venue, Date, Performer\n",
    "        if info_type.text=='장소':\n",
    "            venue=info_data.text\n",
    "        elif info_type.text=='기간':\n",
    "            if '~' in info_data.text:\n",
    "                o_date=info_data.text.split(' ', 3)[0]       # split('기준', '횟수')\n",
    "                e_date=info_data.text.split(' ', 3)[2]\n",
    "            else:\n",
    "                o_date=e_date=info_data.text.split(' ', 2)[0]\n",
    "        elif info_type.text=='부제':\n",
    "            subtitle=info_data.text\n",
    "        elif info_type.text=='출연':\n",
    "            driver.find_element_by_id('aTabC').click()\n",
    "            driver.switch_to.frame('ifrTabC')\n",
    "            i_actor=driver.find_elements_by_class_name('Actor')\n",
    "            for i in i_actor:\n",
    "                performer.append(i.find_element_by_tag_name('h3').text)\n",
    "        else:\n",
    "            pass\n",
    "        \n",
    "    p_value=[ptype, title, subtitle, venue, o_date, e_date, performer]\n",
    "    data=dict(zip(p_keys, p_value))\n",
    "    print(data)\n",
    "    \n",
    "    return data"
   ]
  },
  {
   "cell_type": "code",
   "execution_count": 3,
   "metadata": {},
   "outputs": [],
   "source": [
    "def get_link():\n",
    "    \n",
    "    link=[]\n",
    "    p_table=driver.find_element_by_xpath('/html/body/table/tbody/tr[2]/td[3]/div/div/div[2]/div/table/tbody')\n",
    "\n",
    "    for row in p_table.find_elements_by_tag_name('tr'):\n",
    "        link.append(row.find_element_by_tag_name('a').get_attribute('href'))\n",
    "        \n",
    "    return link"
   ]
  },
  {
   "cell_type": "code",
   "execution_count": null,
   "metadata": {
    "scrolled": true
   },
   "outputs": [
    {
     "name": "stdout",
     "output_type": "stream",
     "text": [
      "{'Type': '뮤지컬', 'Title': '경주브랜드공연 뮤지컬 월명(月明)', 'Subtitle': '달을 부른 노래', 'Venue': '경주세계문화엑스포 문화센터 문무홀', 'open_Date': '2020.04.28', 'end_Date': '2020.11.28', 'Performer': []}\n",
      "{'Type': '뮤지컬', 'Title': '국민뮤지컬 〈사랑은 비를 타고〉', 'Subtitle': '', 'Venue': '예술극장 나무와물', 'open_Date': '2020.02.14', 'end_Date': '오픈런', 'Performer': ['홍경수', '이영호', '김성수', '박세웅', '박준후', '김지휘', '김주왕', '이동화', '박경진', '김민영', '서은교']}\n",
      "{'Type': '뮤지컬', 'Title': '꽃보다 슈퍼스타(꽃슈스)', 'Subtitle': '', 'Venue': '대학로 마로니에 소극장', 'open_Date': '2014.04.22', 'end_Date': '오픈런', 'Performer': ['김다솔', '오선미', '정여은']}\n",
      "{'Type': '뮤지컬', 'Title': '더드럼(The Drum)-천동고', 'Subtitle': '천동고', 'Venue': '판 시어터', 'open_Date': '2020.03.13', 'end_Date': '오픈런', 'Performer': []}\n",
      "{'Type': '뮤지컬', 'Title': '락 뮤지컬 프리즌', 'Subtitle': '', 'Venue': '대학로 극장가게', 'open_Date': '2020.04.29', 'end_Date': '2020.05.31', 'Performer': []}\n",
      "{'Type': '뮤지컬', 'Title': '뮤지컬 〈김종욱찾기〉 - 서울 대학로', 'Subtitle': '', 'Venue': '컬처스페이스 엔유', 'open_Date': '2016.06.17', 'end_Date': '2020.05.31', 'Performer': ['정승환', '정재환', '김도현', '김태윤', '조연화', '김유진', '김지은', '김재희', '김진우', '문준혁', '임태양', '손영우']}\n",
      "{'Type': '뮤지컬', 'Title': '뮤지컬 〈데미안〉', 'Subtitle': '', 'Venue': '대학로 유니플렉스 2관', 'open_Date': '2020.03.07', 'end_Date': '2020.04.26', 'Performer': ['정인지', '유승현', '전성민(김유영)', '김바다', '김현진', '김주연', '정인지', '유승현', '전성민(김유영)', '김바다', '김현진', '김주연']}\n",
      "{'Type': '뮤지컬', 'Title': '뮤지컬 〈라흐마니노프〉', 'Subtitle': '', 'Venue': '예스24스테이지 1관', 'open_Date': '2020.03.14', 'end_Date': '2020.06.07', 'Performer': ['박규원', '이해준', '정욱진', '유성재', '정민', '임병근']}\n",
      "{'Type': '뮤지컬', 'Title': '뮤지컬 〈레베카〉 - 고양', 'Subtitle': '', 'Venue': '고양아람누리 아람극장', 'open_Date': '2020.06.12', 'end_Date': '2020.06.14', 'Performer': ['류정한', '엄기준', '카이', '신성록', '신영숙', '옥주현', '알리', '박지연', '이지혜', '민경아', '최민철', '이창민', '문희경', '이소유(이정화)', '류수화', '최병광', '박진우', '김지욱', '이종문']}\n"
     ]
    }
   ],
   "source": [
    "p_type={'Mus':'뮤지컬', 'Liv':'콘서트', 'Dra':'연극', 'Cla':'클래식', 'Eve&SubCa=Eve_T':'전시', 'Fam':'아동'}\n",
    "p_data=[]       # 공연정보 리스트\n",
    "\n",
    "for key in p_type:\n",
    "    \n",
    "    # [장르 - 전체보기 - 상품명순] 페이지 접근\n",
    "    driver.get(\"http://ticket.interpark.com/TPGoodsList.asp?Ca=\"+key+\"&Sort=4\")\n",
    "    time.sleep(0.5)\n",
    "    \n",
    "    # 각 공연의 상세페이지 주소 p_link에 가져오기\n",
    "    p_link=get_link()\n",
    "    \n",
    "    # p_link의 주소로 상세페이지에 접근하여 데이터 가져오기\n",
    "    for link in p_link:\n",
    "        \n",
    "        driver.get(link)\n",
    "        time.sleep(0.5)\n",
    "            \n",
    "        # 상세페이지에서 얻은 공연정보 데이터를 p_data에 추가하기\n",
    "        p_data.append(get_data(p_type[key]))\n",
    "        "
   ]
  },
  {
   "cell_type": "code",
   "execution_count": null,
   "metadata": {},
   "outputs": [],
   "source": []
  }
 ],
 "metadata": {
  "kernelspec": {
   "display_name": "Python 3",
   "language": "python",
   "name": "python3"
  },
  "language_info": {
   "codemirror_mode": {
    "name": "ipython",
    "version": 3
   },
   "file_extension": ".py",
   "mimetype": "text/x-python",
   "name": "python",
   "nbconvert_exporter": "python",
   "pygments_lexer": "ipython3",
   "version": "3.7.6"
  }
 },
 "nbformat": 4,
 "nbformat_minor": 4
}
