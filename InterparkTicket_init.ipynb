{
 "cells": [
  {
   "cell_type": "markdown",
   "metadata": {},
   "source": [
    "## 인터파크티켓 크롤링\n",
    "#### 공연 개별 상세페이지에서 정보 가져오기"
   ]
  },
  {
   "cell_type": "code",
   "execution_count": null,
   "metadata": {},
   "outputs": [],
   "source": [
    "from selenium import webdriver\n",
    "import time\n",
    "\n",
    "path=\"C:/Users/YYJ/Desktop/myPython/chromedriver.exe\"\n",
    "driver=webdriver.Chrome(path)"
   ]
  },
  {
   "cell_type": "code",
   "execution_count": null,
   "metadata": {},
   "outputs": [],
   "source": [
    "def get_data(p_type):\n",
    "    \n",
    "    p_info={'Type':'', 'Title':'', 'Subtitle':'', 'Venue':'', 'open_Date':'', 'end_Date':'', 'Performer':''}\n",
    "    performer=[]\n",
    "    \n",
    "    # Type\n",
    "    p_info['Type']=p_type\n",
    "    \n",
    "    # Title\n",
    "    p_info['Title']=driver.find_element_by_id('IDGoodsName').text\n",
    "    \n",
    "    elem=driver.find_element_by_id('TabA')\n",
    "    for dl in elem.find_elements_by_tag_name('dl'):\n",
    "        info_type=dl.find_element_by_tag_name('dt')\n",
    "        info_data=dl.find_element_by_tag_name('dd')\n",
    "        \n",
    "    # Subtitle, Venue, Date, Performer\n",
    "        if info_type.text=='장소':\n",
    "            p_info['Venue']=info_data.text\n",
    "        elif info_type.text=='기간':\n",
    "            if '~' in info_data.text:\n",
    "                p_info['open_Date']=info_data.text.split(' ', 3)[0]       # split('기준', '횟수')\n",
    "                p_info['end_Date']=info_data.text.split(' ', 3)[2]\n",
    "            else:\n",
    "                p_info['open_Date']=p_info['end_Date']=info_data.text.split(' ', 2)[0]\n",
    "        elif info_type.text=='부제':\n",
    "            p_info['Subtitle']=info_data.text\n",
    "        elif info_type.text=='출연':\n",
    "            driver.find_element_by_id('aTabC').click()\n",
    "            driver.switch_to.frame('ifrTabC')\n",
    "            for i in driver.find_elements_by_class_name('Actor'):\n",
    "                performer.append(i.find_element_by_tag_name('h3').text)\n",
    "            p_info['Performer']=performer\n",
    "        else:\n",
    "            pass\n",
    "        \n",
    "    print(p_info)\n",
    "    \n",
    "    return p_info"
   ]
  },
  {
   "cell_type": "code",
   "execution_count": null,
   "metadata": {},
   "outputs": [],
   "source": [
    "def get_link():\n",
    "    \n",
    "    link=[]\n",
    "    p_table=driver.find_element_by_xpath('/html/body/table/tbody/tr[2]/td[3]/div/div/div[2]/div/table/tbody')\n",
    "\n",
    "    for row in p_table.find_elements_by_tag_name('tr'):\n",
    "        link.append(row.find_element_by_tag_name('a').get_attribute('href'))\n",
    "        \n",
    "    return link"
   ]
  },
  {
   "cell_type": "code",
   "execution_count": null,
   "metadata": {},
   "outputs": [],
   "source": [
    "p_type={'Mus':'뮤지컬', 'Liv':'콘서트', 'Dra':'연극', 'Cla':'클래식', 'Eve&SubCa=Eve_T':'전시', 'Fam':'아동'}\n",
    "p_data=[]       # 공연정보 리스트\n",
    "\n",
    "for key in p_type:\n",
    "    \n",
    "    # [장르 - 전체보기 - 상품명순] 페이지 접근\n",
    "    driver.get(\"http://ticket.interpark.com/TPGoodsList.asp?Ca=\"+key+\"&Sort=4\")\n",
    "    time.sleep(0.5)\n",
    "    \n",
    "    # 각 공연의 상세페이지 주소 p_link에 가져오기\n",
    "    p_link=get_link()\n",
    "    \n",
    "    # p_link의 주소로 상세페이지에 접근하여 데이터 가져오기\n",
    "    for link in p_link:\n",
    "        \n",
    "        driver.get(link)\n",
    "        time.sleep(0.5)\n",
    "            \n",
    "        # 상세페이지에서 얻은 공연정보 데이터를 p_data에 추가하기\n",
    "        p_data.append(get_data(key))\n",
    "        "
   ]
  },
  {
   "cell_type": "code",
   "execution_count": null,
   "metadata": {},
   "outputs": [],
   "source": []
  }
 ],
 "metadata": {
  "kernelspec": {
   "display_name": "Python 3",
   "language": "python",
   "name": "python3"
  },
  "language_info": {
   "codemirror_mode": {
    "name": "ipython",
    "version": 3
   },
   "file_extension": ".py",
   "mimetype": "text/x-python",
   "name": "python",
   "nbconvert_exporter": "python",
   "pygments_lexer": "ipython3",
   "version": "3.7.6"
  }
 },
 "nbformat": 4,
 "nbformat_minor": 4
}
