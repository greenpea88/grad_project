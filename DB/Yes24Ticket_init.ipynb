{
 "cells": [
  {
   "cell_type": "markdown",
   "metadata": {},
   "source": [
    "## 예스24티켓 크롤링\n",
    "#### 공연 개별 상세페이지에서 정보 가져오기"
   ]
  },
  {
   "cell_type": "code",
   "execution_count": 4,
   "metadata": {},
   "outputs": [],
   "source": [
    "from selenium import webdriver\n",
    "import time\n",
    "\n",
    "path=\"C:/chromedriver.exe\"\n",
    "driver=webdriver.Chrome(path)"
   ]
  },
  {
   "cell_type": "code",
   "execution_count": 5,
   "metadata": {},
   "outputs": [],
   "source": [
    "def get_data(p_type):\n",
    "    \n",
    "    p_info={'Type':'', 'Title':'', 'TicketOpen':'', 'Venue':'', 'StartDate':'', 'EndDate':'', 'Time':'',\n",
    "           'RunningTime':'', 'Price':'', 'BuyTicket':'예스24', 'PosterSrc':'', 'RegisteredTime':'', 'Performer':''}\n",
    "    performer=[]\n",
    "    \n",
    "#     p_info={'Type':'', 'Title':'', 'Subtitle':'', 'Venue':'', 'StartDate':'', 'EndDate':'', 'Performer':''}\n",
    "#     performer=[]\n",
    "    \n",
    "    # Type\n",
    "    p_info['Type']=p_type\n",
    "    \n",
    "    # Title\n",
    "    p_info['Title']=driver.find_element_by_class_name('rn-big-title').text\n",
    "    \n",
    "    # RunningTime\n",
    "    div=driver.find_element_by_class_name('rn-product-area1')\n",
    "    dd=div.find_elements_by_tag_name('dd')\n",
    "    p_info['RunningTime']=dd[1].text\n",
    "    p_info['RunningTime']=p_info['RunningTime'][1:]\n",
    "    \n",
    "    # PosterSrc\n",
    "    try:\n",
    "        p_info['PosterSrc']=driver.find_element_by_xpath('//*[@id=\"mainForm\"]/div[10]/div/div[1]/div[1]/div[1]/img').get_attribute('src')\n",
    "    except:\n",
    "        p_info['PosterSrc']=driver.find_element_by_xpath('//*[@id=\"mainForm\"]/div[9]/div/div[1]/div[1]/div/img').get_attribute('src')\n",
    "    \n",
    "    # Price\n",
    "    dd = driver.find_element_by_class_name('rn-product-price')\n",
    "    try:\n",
    "        for li in dd.find_elements_by_tag_name('li'):\n",
    "            p_info['Price']=p_info['Price']+li.text+', '\n",
    "        p_info['Price']=p_info['Price'][:-2]\n",
    "    except IndexError:\n",
    "        pass\n",
    "    \n",
    "    # Date\n",
    "    p_info['StartDate']=driver.find_element_by_class_name('ps-date').text.split(' ', 2)[0]\n",
    "    p_info['EndDate']=driver.find_element_by_class_name('ps-date').text.split(' ', 2)[2]\n",
    "    \n",
    "    # Time\n",
    "    try:\n",
    "        p_info['Time']=driver.find_element_by_xpath('//*[@id=\"mainForm\"]/div[10]/div/div[1]/div[2]/div[2]/dl/dd[1]').text\n",
    "    except:\n",
    "        p_info['Time']=driver.find_element_by_xpath('//*[@id=\"mainForm\"]/div[9]/div/div[1]/div[2]/div[2]/dl/dd[1]').text\n",
    "    if(p_info['Time'].find('시')==-1):\n",
    "        p_info['Time']=' '\n",
    "    p_info['Time'].replace('\\n', ' ')\n",
    "    \n",
    "    # Venue\n",
    "    try:\n",
    "        p_info['Venue']=driver.find_element_by_class_name('ps-location').text\n",
    "    except:\n",
    "        p_info['Venue']=driver.find_element_by_class_name('ps-location2').text\n",
    "    \n",
    "    # Performer\n",
    "    for i in driver.find_elements_by_class_name('rn-product-peole'):\n",
    "        performer.append(i.text)\n",
    "    p_info['Performer']=performer\n",
    "        \n",
    "    print(p_info)\n",
    "    \n",
    "    return p_info"
   ]
  },
  {
   "cell_type": "code",
   "execution_count": 6,
   "metadata": {},
   "outputs": [],
   "source": [
    "def get_link():\n",
    "    \n",
    "    link=[]\n",
    "    \n",
    "    # 무한 스크롤\n",
    "    last_height=driver.execute_script(\"return document.body.scrollHeight;\")\n",
    "    while True:\n",
    "        # Scroll down to bottom\n",
    "        driver.execute_script(\"window.scrollTo(0, document.body.scrollHeight);\")\n",
    "        # Wait to load page\n",
    "        time.sleep(0.5)\n",
    "        # Calculate new scroll height and compare with last scroll height\n",
    "        new_height=driver.execute_script(\"return document.body.scrollHeight\")\n",
    "        if new_height==last_height:\n",
    "            break\n",
    "        last_height=new_height\n",
    "    \n",
    "    # 상세페이지로 접근하는 웹요소를 찾아 url에 입력할 번호만 파싱\n",
    "    for row in driver.find_elements_by_class_name('ms-list-imgs'):\n",
    "        for col in row.find_elements_by_tag_name('a'):\n",
    "            s=col.get_attribute('onclick')\n",
    "            s1=s.split('(')[1]\n",
    "            s2=s1.split(')')[0]\n",
    "            link.append(s2)\n",
    "    \n",
    "    return link"
   ]
  },
  {
   "cell_type": "code",
   "execution_count": null,
   "metadata": {
    "scrolled": true
   },
   "outputs": [
    {
     "name": "stdout",
     "output_type": "stream",
     "text": [
      "{'Type': '콘서트', 'Title': 'ATEEZ（에이티즈）OFFICIAL FANCLUB 〈ATINY〉2기 모집', 'TicketOpen': '', 'Venue': '회원모집', 'StartDate': '2021.01.31', 'EndDate': '2021.01.31', 'Time': ' ', 'RunningTime': '--', 'Price': '팬클럽가입 30,000원', 'BuyTicket': '예스24', 'PosterSrc': 'http://tkfile.yes24.com/upload2/PerfBlog/202012/20201208/20201208-38148.jpg', 'RegisteredTime': '', 'Performer': ['ATEEZ（에이티즈）']}\n",
      "{'Type': '콘서트', 'Title': 'ATEEZ（에이티즈）OFFICIAL FANCLUB 〈ATINY〉2기 모집 [1기전용]', 'TicketOpen': '', 'Venue': '회원모집', 'StartDate': '2021.01.31', 'EndDate': '2021.01.31', 'Time': ' ', 'RunningTime': '--', 'Price': '팬클럽가입 30,000원', 'BuyTicket': '예스24', 'PosterSrc': 'http://tkfile.yes24.com/upload2/PerfBlog/202012/20201208/20201208-38147.jpg', 'RegisteredTime': '', 'Performer': ['ATEEZ（에이티즈）']}\n",
      "{'Type': '콘서트', 'Title': '2020-21 조명섭 단독콘서트 [달밤음악회] - 앵콜', 'TicketOpen': '', 'Venue': '경희대학교 평화의전당', 'StartDate': '2021.01.30', 'EndDate': '2021.01.31', 'Time': '2021년 1월 30일(토) 오후 6시\\n2021년 1월 31일(일) 오후 3시', 'RunningTime': '120분', 'Price': 'R석 121,000원, S석 110,000원', 'BuyTicket': '예스24', 'PosterSrc': 'http://tkfile.yes24.com/upload2/PerfBlog/202012/20201204/20201204-38132.jpg', 'RegisteredTime': '', 'Performer': ['조명섭']}\n",
      "{'Type': '콘서트', 'Title': 'DAY6（Even of Day）Online Party Night〈The Arcane Salon〉', 'TicketOpen': '', 'Venue': '온라인', 'StartDate': '2020.12.27', 'EndDate': '2020.12.27', 'Time': '2020년 12월 27일(일) 오후 5시', 'RunningTime': '--', 'Price': '팬클럽 선예매 30,000원', 'BuyTicket': '예스24', 'PosterSrc': 'http://tkfile.yes24.com/upload2/PerfBlog/202012/20201203/20201203-38099.jpg', 'RegisteredTime': '', 'Performer': ['DAY6 (Even of Day) (Young K', '원필', '도운)']}\n",
      "{'Type': '콘서트', 'Title': '9와 숫자들 몽땅쑈 Vol.3', 'TicketOpen': '', 'Venue': 'KT&G 상상마당 홍대', 'StartDate': '2020.12.26', 'EndDate': '2020.12.27', 'Time': '2020년 12월 26일(토) ~ 12월 27일(일)\\n오후 6시', 'RunningTime': '총 180분', 'Price': '전석 77,000원', 'BuyTicket': '예스24', 'PosterSrc': 'http://tkfile.yes24.com/upload2/PerfBlog/202011/20201125/20201125-38078.jpg', 'RegisteredTime': '', 'Performer': ['9와 숫자들']}\n",
      "{'Type': '콘서트', 'Title': '송정미음악회 Christmas in Love', 'TicketOpen': '', 'Venue': '광야아트센터', 'StartDate': '2020.12.23', 'EndDate': '2020.12.31', 'Time': '오후 7시 30분', 'RunningTime': '총 120분', 'Price': '전석 77,000원', 'BuyTicket': '예스24', 'PosterSrc': 'http://tkfile.yes24.com/upload2/PerfBlog/202012/20201204/20201204-38066.jpg', 'RegisteredTime': '', 'Performer': ['송정미(with 송영주)']}\n",
      "{'Type': '콘서트', 'Title': '[인천] 버라이어티 개그쇼 [쇼그맨2]', 'TicketOpen': '', 'Venue': '남동소래아트홀 소래극장(대공연장)', 'StartDate': '2020.12.19', 'EndDate': '2020.12.19', 'Time': '2020년 12월 19일(토) 오후 3시, 7시', 'RunningTime': '총 90분', 'Price': '전석 25,000원', 'BuyTicket': '예스24', 'PosterSrc': 'http://tkfile.yes24.com/upload2/PerfBlog/202011/20201124/20201124-38062.jpg', 'RegisteredTime': '', 'Performer': []}\n"
     ]
    }
   ],
   "source": [
    "p_type={'15456':'콘서트', '15457':'뮤지컬', '15458':'연극', '15459':'클래식', '15460':'전시'}\n",
    "p_data=[]       # 공연정보 리스트\n",
    "\n",
    "for key in p_type:\n",
    "    \n",
    "    # [장르 - 전체보기 - 신상품순] 페이지 접근\n",
    "    driver.get(\"http://ticket.yes24.com/New/Genre/GenreList.aspx?genretype=1&genre=\"+key)\n",
    "    time.sleep(0.5)\n",
    "    driver.find_element_by_xpath('/html/body/section/p[1]/span[2]/a').click()\n",
    "    \n",
    "    # 각 공연의 상세페이지로 접근하기 위해 클릭할 웹요소 p_link에 가져오기\n",
    "    p_link=get_link()\n",
    "    \n",
    "    # p_link의 주소로 상세페이지에 접근하여 데이터 가져오기\n",
    "    for link in p_link:\n",
    "        \n",
    "        driver.get('http://ticket.yes24.com/Perf/'+link)\n",
    "        time.sleep(0.5)\n",
    "            \n",
    "        # 상세페이지에서 얻은 공연정보 데이터를 p_data에 추가하기\n",
    "        p_data.append(get_data(p_type[key]))\n",
    "        "
   ]
  },
  {
   "cell_type": "code",
   "execution_count": null,
   "metadata": {},
   "outputs": [],
   "source": [
    "## MySql DB에 데이터 넣기\n",
    "\n",
    "import pymysql\n",
    "\n",
    "conn=pymysql.connect(host='localhost', user='root', password='asdf1234', db='ticket_test', charset='utf8mb4')\n",
    "try:\n",
    "    with conn.cursor() as cursor:\n",
    "        sql='INSERT ignore INTO yes24 (type, title, subtitle, venue, start_date, end_date) VALUES (%s, %s, %s, %s, %s, %s)'\n",
    "        for r in p_data:\n",
    "#             if r[end_Date]=='오픈런':\n",
    "#                 cursor.execute(sql, (r[1], r[3], '', r[0]))\n",
    "#             else:\n",
    "            cursor.execute(sql, (r['Type'], r['Title'], r['Subtitle'], r['Venue'], r['open_Date'], r['end_Date'],))\n",
    "            conn.commit()\n",
    "finally:\n",
    "    conn.close()"
   ]
  },
  {
   "cell_type": "code",
   "execution_count": null,
   "metadata": {},
   "outputs": [],
   "source": []
  }
 ],
 "metadata": {
  "kernelspec": {
   "display_name": "Python 3",
   "language": "python",
   "name": "python3"
  },
  "language_info": {
   "codemirror_mode": {
    "name": "ipython",
    "version": 3
   },
   "file_extension": ".py",
   "mimetype": "text/x-python",
   "name": "python",
   "nbconvert_exporter": "python",
   "pygments_lexer": "ipython3",
   "version": "3.7.6"
  }
 },
 "nbformat": 4,
 "nbformat_minor": 4
}
