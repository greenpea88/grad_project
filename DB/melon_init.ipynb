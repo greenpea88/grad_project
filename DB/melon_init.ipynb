{
 "cells": [
  {
   "cell_type": "markdown",
   "metadata": {},
   "source": [
    "## Selenium을 이용한 크롤링\n",
    "#### 멜론티켓"
   ]
  },
  {
   "cell_type": "code",
   "execution_count": 1,
   "metadata": {},
   "outputs": [],
   "source": [
    "from selenium import webdriver\n",
    "import time\n",
    "\n",
    "driver = webdriver.Chrome('c:/chromedriver.exe')"
   ]
  },
  {
   "cell_type": "code",
   "execution_count": 5,
   "metadata": {},
   "outputs": [],
   "source": [
    "def get_data():\n",
    "    \n",
    "    p_info={'Type':'', 'Title':'', 'TicketOpen':'', 'Venue':'', 'StartDate':'', 'EndDate':'', 'Time':'',\n",
    "           'RunningTime':'', 'Price':'', 'BuyTicket':'멜론', 'PosterSrc':'', 'RegisteredTime':'', 'Performer':''}\n",
    "#     p_info={'Type':'', 'Title':'', 'Subtitle':'', 'Venue':'', 'StartDate':'', 'EndDate':'', 'Performer':''}\n",
    "    performer=[]\n",
    "    \n",
    "    # Type\n",
    "    p_info['Type']=driver.find_element_by_xpath('//*[@id=\"conts\"]/div/div[1]/div[1]/div[2]/div[2]/dl[1]/dd[3]').text\n",
    "    \n",
    "    # Title\n",
    "    p_info['Title']=driver.find_element_by_xpath('//*[@id=\"conts\"]/div/div[1]/div[1]/div[2]/p[2]').text\n",
    "    \n",
    "#     # Subtitle\n",
    "#     p_info['Subtitle']=driver.find_element_by_xpath('//*[@id=\"conts\"]/div/div[1]/div[1]/div[2]/p[2]').text\n",
    "\n",
    "    # RunningTime\n",
    "    p_info['RunningTime']=driver.find_element_by_xpath('//*[@id=\"conts\"]/div/div[1]/div[1]/div[2]/div[2]/dl[1]/dd[2]').text\n",
    "    \n",
    "    # PosterSrc\n",
    "    p_info['PosterSrc']=driver.find_element_by_xpath('//*[@id=\"conts\"]/div/div[1]/div[1]/div[1]/img').get_attribute('src')\n",
    "    \n",
    "    # Time\n",
    "    p_info['Time']=driver.find_element_by_xpath('//*[@id=\"conts\"]/div/div[3]/div[1]/div[2]/p[2]/span').text.split(') ', 2)[1]\n",
    "        \n",
    "    # Price\n",
    "    p_info['Price']=driver.find_element_by_xpath('//*[@id=\"conts\"]/div/div[3]/div[1]/div[3]/ul/li').text\n",
    "    p_info['Price'].replace('\\n', ' ')\n",
    "    \n",
    "    # Venue\n",
    "    try:\n",
    "        p_info['Venue']=driver.find_element_by_xpath('//*[@id=\"performanceHallBtn\"]/span[1]').text\n",
    "    except:\n",
    "        p_info['Venue']=' '\n",
    "    \n",
    "    # Date\n",
    "    temp_date=driver.find_element_by_xpath('//*[@id=\"periodInfo\"]').text\n",
    "    if '-' in temp_date:\n",
    "        p_info['StartDate']=temp_date.split(' ', 2)[0]\n",
    "        p_info['EndDate']=temp_date.split(' ', 2)[2]\n",
    "\n",
    "    # Performer\n",
    "    li_artist=driver.find_elements_by_class_name('list_artist')\n",
    "    for i in li_artist:\n",
    "        if i.find_element_by_tag_name('li') != 'no_artist':\n",
    "            performer.append(i.find_element_by_class_name('singer').text)\n",
    "    p_info['Performer']=performer\n",
    "    \n",
    "        \n",
    "    print(p_info)\n",
    "    p_data.append(p_info)"
   ]
  },
  {
   "cell_type": "code",
   "execution_count": 6,
   "metadata": {},
   "outputs": [],
   "source": [
    "def get_link():\n",
    "    \n",
    "    temp_li=driver.find_element_by_xpath('//*[@id=\"perf_poster\"]')\n",
    "    \n",
    "    try:\n",
    "        for p_block in temp_li.find_elements_by_tag_name('li'):\n",
    "            p_link.append(p_block.find_element_by_tag_name('a').get_attribute('href'))\n",
    "    except:\n",
    "        print('error')\n",
    "            \n",
    "        "
   ]
  },
  {
   "cell_type": "code",
   "execution_count": 7,
   "metadata": {
    "scrolled": true
   },
   "outputs": [
    {
     "name": "stdout",
     "output_type": "stream",
     "text": [
      "error\n",
      "{'Type': '콘서트', 'Title': '소년，소녀를 만나다 VII', 'TicketOpen': '', 'Venue': '성수아트홀 ', 'StartDate': '2021.01.02', 'EndDate': '2021.01.02', 'Time': '오후 6시', 'RunningTime': '90분', 'Price': '전석\\n55,000원', 'BuyTicket': '멜론', 'PosterSrc': 'https://cdnticket.melon.co.kr/resource/image/upload/product/2020/12/20201204130320fcc7ee7d-a451-4432-b008-3c980d1eb654.jpg/melon/resize/180x254/strip/true/quality/90/optimize', 'RegisteredTime': '', 'Performer': ['재주소년']}\n",
      "{'Type': '콘서트', 'Title': '에이프릴 세컨드 단독 콘서트 〈1월의 돌고래：Do You Wanna〉', 'TicketOpen': '', 'Venue': '벨로주 홍대 ', 'StartDate': '2021.01.10', 'EndDate': '2021.01.10', 'Time': '오후 5시', 'RunningTime': '90분', 'Price': '전석\\n49,000원', 'BuyTicket': '멜론', 'PosterSrc': 'https://cdnticket.melon.co.kr/resource/image/upload/product/2020/12/2020120411125080c54611-020c-48a2-af1d-1fa9679f3261.jpg/melon/resize/180x254/strip/true/quality/90/optimize', 'RegisteredTime': '', 'Performer': ['에이프릴 세컨드']}\n",
      "{'Type': '콘서트', 'Title': '워킹애프터유 연말단독공연：FAREWELL 2020', 'TicketOpen': '', 'Venue': '프리즘홀 ', 'StartDate': '2020.12.31', 'EndDate': '2020.12.31', 'Time': '오후 7시', 'RunningTime': '100분', 'Price': '전석\\n30,000원', 'BuyTicket': '멜론', 'PosterSrc': 'https://cdnticket.melon.co.kr/resource/image/upload/product/2020/12/20201203165657c0ee4eee-b5ce-4ada-818a-b2e3ee1a12c1.jpg/melon/resize/180x254/strip/true/quality/90/optimize', 'RegisteredTime': '', 'Performer': ['워킹애프터유 (Walking After U)']}\n",
      "{'Type': '콘서트', 'Title': '놀이도감 1집 발매 단독 콘서트＂새해＂', 'TicketOpen': '', 'Venue': '벨로주 홍대 ', 'StartDate': '2021.02.06', 'EndDate': '2021.02.06', 'Time': '오후 6시 30분', 'RunningTime': '90분', 'Price': '전석\\n45,000원', 'BuyTicket': '멜론', 'PosterSrc': 'https://cdnticket.melon.co.kr/resource/image/upload/product/2020/11/2020112716562192e32790-510a-4868-ac97-bffb3858d90a.jpg/melon/resize/180x254/strip/true/quality/90/optimize', 'RegisteredTime': '', 'Performer': ['놀이도감']}\n",
      "{'Type': '콘서트', 'Title': '장희원 정예원 크리스마스콘서트：크리스마스엔 너와', 'TicketOpen': '', 'Venue': '프리즘홀 ', 'StartDate': '2020.12.25', 'EndDate': '2020.12.25', 'Time': '오후 6시', 'RunningTime': '90분', 'Price': '전석\\n30,000원', 'BuyTicket': '멜론', 'PosterSrc': 'https://cdnticket.melon.co.kr/resource/image/upload/product/2020/12/2020120316552677540bb2-e8d8-4f77-a4cb-c1a28c30f6f6.jpg/melon/resize/180x254/strip/true/quality/90/optimize', 'RegisteredTime': '', 'Performer': ['장희원']}\n",
      "{'Type': '콘서트', 'Title': '피싱걸스 EP 발매 단독공연', 'TicketOpen': '', 'Venue': '프리즘홀 ', 'StartDate': '2020.12.24', 'EndDate': '2020.12.24', 'Time': '오후 7시 30분', 'RunningTime': '100분', 'Price': '전석\\n33,000원', 'BuyTicket': '멜론', 'PosterSrc': 'https://cdnticket.melon.co.kr/resource/image/upload/product/2020/11/2020112713454711a249f6-a5a0-4cd1-b494-2a7901d032f6.jpg/melon/resize/180x254/strip/true/quality/90/optimize', 'RegisteredTime': '', 'Performer': ['피싱걸스']}\n",
      "{'Type': '콘서트', 'Title': '요조？사공［2020 2／2］', 'TicketOpen': '', 'Venue': '플라스틱파크 ', 'StartDate': '2020.12.20', 'EndDate': '2020.12.20', 'Time': '오후 2시 , 오후 6시', 'RunningTime': '80분', 'Price': '전석\\n55,000원', 'BuyTicket': '멜론', 'PosterSrc': 'https://cdnticket.melon.co.kr/resource/image/upload/product/2020/11/202011251407595a4b75f8-f59b-4dfe-a8c2-c2be6386e165.jpg/melon/resize/180x254/strip/true/quality/90/optimize', 'RegisteredTime': '', 'Performer': ['요조']}\n",
      "{'Type': '콘서트', 'Title': '이영훈［2020 2／2］', 'TicketOpen': '', 'Venue': '플라스틱파크 ', 'StartDate': '2020.12.13', 'EndDate': '2020.12.13', 'Time': '오후 2시 , 오후 6시', 'RunningTime': '80분', 'Price': '전석\\n55,000원', 'BuyTicket': '멜론', 'PosterSrc': 'https://cdnticket.melon.co.kr/resource/image/upload/product/2020/11/20201124165315ea6ed80c-c294-4cb6-bf64-e836ef71fc70.jpg/melon/resize/180x254/strip/true/quality/90/optimize', 'RegisteredTime': '', 'Performer': ['이영훈']}\n",
      "{'Type': '콘서트', 'Title': 'Studio Secret Live with WISUE', 'TicketOpen': '', 'Venue': ' ', 'StartDate': '2020.12.12', 'EndDate': '2020.12.12', 'Time': '오후 5시', 'RunningTime': '60분', 'Price': '후원하기\\n10,000원', 'BuyTicket': '멜론', 'PosterSrc': 'https://cdnticket.melon.co.kr/resource/image/upload/product/2020/11/202011231713501119d61f-f5bd-46d1-8711-e67de6b0c776.jpg/melon/resize/180x254/strip/true/quality/90/optimize', 'RegisteredTime': '', 'Performer': ['위수 (WISUE)']}\n"
     ]
    },
    {
     "ename": "IndexError",
     "evalue": "list index out of range",
     "output_type": "error",
     "traceback": [
      "\u001b[1;31m---------------------------------------------------------------------------\u001b[0m",
      "\u001b[1;31mIndexError\u001b[0m                                Traceback (most recent call last)",
      "\u001b[1;32m<ipython-input-7-440a881d8279>\u001b[0m in \u001b[0;36m<module>\u001b[1;34m\u001b[0m\n\u001b[0;32m     24\u001b[0m \u001b[1;33m\u001b[0m\u001b[0m\n\u001b[0;32m     25\u001b[0m         \u001b[1;31m# 공연정보 데이터를 p_data에 가져오기\u001b[0m\u001b[1;33m\u001b[0m\u001b[1;33m\u001b[0m\u001b[1;33m\u001b[0m\u001b[0m\n\u001b[1;32m---> 26\u001b[1;33m         \u001b[0mget_data\u001b[0m\u001b[1;33m(\u001b[0m\u001b[1;33m)\u001b[0m\u001b[1;33m\u001b[0m\u001b[1;33m\u001b[0m\u001b[0m\n\u001b[0m\u001b[0;32m     27\u001b[0m \u001b[1;33m\u001b[0m\u001b[0m\n\u001b[0;32m     28\u001b[0m         \u001b[1;31m# 전체 공연 리스트에 p_data 추가하기 (이중리스트)\u001b[0m\u001b[1;33m\u001b[0m\u001b[1;33m\u001b[0m\u001b[1;33m\u001b[0m\u001b[0m\n",
      "\u001b[1;32m<ipython-input-5-feb43e17dfaa>\u001b[0m in \u001b[0;36mget_data\u001b[1;34m()\u001b[0m\n\u001b[0;32m     22\u001b[0m \u001b[1;33m\u001b[0m\u001b[0m\n\u001b[0;32m     23\u001b[0m     \u001b[1;31m# Time\u001b[0m\u001b[1;33m\u001b[0m\u001b[1;33m\u001b[0m\u001b[1;33m\u001b[0m\u001b[0m\n\u001b[1;32m---> 24\u001b[1;33m     \u001b[0mp_info\u001b[0m\u001b[1;33m[\u001b[0m\u001b[1;34m'Time'\u001b[0m\u001b[1;33m]\u001b[0m\u001b[1;33m=\u001b[0m\u001b[0mdriver\u001b[0m\u001b[1;33m.\u001b[0m\u001b[0mfind_element_by_xpath\u001b[0m\u001b[1;33m(\u001b[0m\u001b[1;34m'//*[@id=\"conts\"]/div/div[3]/div[1]/div[2]/p[2]/span'\u001b[0m\u001b[1;33m)\u001b[0m\u001b[1;33m.\u001b[0m\u001b[0mtext\u001b[0m\u001b[1;33m.\u001b[0m\u001b[0msplit\u001b[0m\u001b[1;33m(\u001b[0m\u001b[1;34m') '\u001b[0m\u001b[1;33m,\u001b[0m \u001b[1;36m2\u001b[0m\u001b[1;33m)\u001b[0m\u001b[1;33m[\u001b[0m\u001b[1;36m1\u001b[0m\u001b[1;33m]\u001b[0m\u001b[1;33m\u001b[0m\u001b[1;33m\u001b[0m\u001b[0m\n\u001b[0m\u001b[0;32m     25\u001b[0m \u001b[1;33m\u001b[0m\u001b[0m\n\u001b[0;32m     26\u001b[0m     \u001b[1;31m# Price\u001b[0m\u001b[1;33m\u001b[0m\u001b[1;33m\u001b[0m\u001b[1;33m\u001b[0m\u001b[0m\n",
      "\u001b[1;31mIndexError\u001b[0m: list index out of range"
     ]
    }
   ],
   "source": [
    "plays=[]       # 전체 공연정보 리스트\n",
    "plays_type=['GENRE_CON', 'GENRE_ART', 'GENRE_CLA', 'GENRE_EXH']\n",
    "\n",
    "for i in range(0,len(plays_type)):\n",
    "    \n",
    "    # 장르에 따른 '전체보기 - 상품명순' 페이지 접근\n",
    "    driver.get(\"https://ticket.melon.com/concert/index.htm?genreType=\"+plays_type[i])\n",
    "    time.sleep(1)\n",
    "    \n",
    "    p_link=[]       # 장르별 공연 상세페이지 링크 리스트\n",
    "    p_data=[]       # 장르별 공연정보 리스트\n",
    "    \n",
    "    # 최신순으로 정렬\n",
    "    driver.find_element_by_xpath('//*[@id=\"sort_lately_admin\"]/a').click()\n",
    "    \n",
    "    # 각 공연의 상세페이지 링크 p_link에 가져오기\n",
    "    get_link()\n",
    "    \n",
    "    for j in p_link:\n",
    "        \n",
    "        # 상세페이지 링크에 접근\n",
    "        driver.get(j)\n",
    "        time.sleep(0.5)\n",
    "            \n",
    "        # 공연정보 데이터를 p_data에 가져오기\n",
    "        get_data()\n",
    "        \n",
    "        # 전체 공연 리스트에 p_data 추가하기 (이중리스트)\n",
    "        plays.append(p_data)\n"
   ]
  },
  {
   "cell_type": "code",
   "execution_count": null,
   "metadata": {},
   "outputs": [],
   "source": []
  }
 ],
 "metadata": {
  "kernelspec": {
   "display_name": "Python 3",
   "language": "python",
   "name": "python3"
  }
 },
 "nbformat": 4,
 "nbformat_minor": 4
}
