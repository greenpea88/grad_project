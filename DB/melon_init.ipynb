{
 "cells": [
  {
   "cell_type": "markdown",
   "metadata": {},
   "source": [
    "## Selenium을 이용한 크롤링\n",
    "#### 멜론티켓"
   ]
  },
  {
   "cell_type": "code",
   "execution_count": 1,
   "metadata": {},
   "outputs": [],
   "source": [
    "from selenium import webdriver\n",
    "import time\n",
    "\n",
    "driver = webdriver.Chrome('c:/chromedriver.exe')"
   ]
  },
  {
   "cell_type": "code",
   "execution_count": 2,
   "metadata": {},
   "outputs": [],
   "source": [
    "def get_data():\n",
    "    \n",
    "    p_info={'Type':'', 'Title':'', 'Subtitle':'', 'Venue':'', 'open_Date':'', 'end_Date':'', 'Performer':''}\n",
    "    performer=[]\n",
    "    \n",
    "    # Type\n",
    "    p_info['Type']=driver.find_element_by_xpath('//*[@id=\"conts\"]/div/div[1]/div[1]/div[2]/div[2]/dl[1]/dd[3]').text\n",
    "    \n",
    "    # Title\n",
    "    p_info['Title']=driver.find_element_by_xpath('//*[@id=\"conts\"]/div/div[1]/div[1]/div[2]/p[2]').text\n",
    "    \n",
    "#     # Subtitle\n",
    "#     p_info['Subtitle']=driver.find_element_by_xpath('//*[@id=\"conts\"]/div/div[1]/div[1]/div[2]/p[2]').text\n",
    "        \n",
    "    # Venue\n",
    "    p_info['Venue']=driver.find_element_by_xpath('//*[@id=\"performanceHallBtn\"]/span[1]').text\n",
    "    \n",
    "    # Date\n",
    "    temp_date=driver.find_element_by_xpath('//*[@id=\"periodInfo\"]').text\n",
    "    if '-' in temp_date:\n",
    "        p_info['open_Date']=temp_date.split(' ', 2)[0]\n",
    "        p_info['end_Date']=temp_date.split(' ', 2)[2]\n",
    "\n",
    "    # Performer\n",
    "    li_artist=driver.find_elements_by_class_name('list_artist')\n",
    "    for i in li_artist:\n",
    "        if i.find_element_by_tag_name('li') != 'no_artist':\n",
    "            performer.append(i.find_element_by_class_name('singer').text)\n",
    "    p_info['Performer']=performer\n",
    "    \n",
    "        \n",
    "    print(p_info)\n",
    "    p_data.append(p_info)"
   ]
  },
  {
   "cell_type": "code",
   "execution_count": 3,
   "metadata": {},
   "outputs": [],
   "source": [
    "def get_link():\n",
    "    \n",
    "    temp_li=driver.find_element_by_xpath('//*[@id=\"perf_poster\"]')\n",
    "    \n",
    "    try:\n",
    "        for p_block in temp_li.find_elements_by_tag_name('li'):\n",
    "            p_link.append(p_block.find_element_by_tag_name('a').get_attribute('href'))\n",
    "    except:\n",
    "        print('error')\n",
    "            \n",
    "        "
   ]
  },
  {
   "cell_type": "code",
   "execution_count": null,
   "metadata": {
    "scrolled": true
   },
   "outputs": [],
   "source": [
    "plays=[]       # 전체 공연정보 리스트\n",
    "plays_type=['GENRE_CON', 'GENRE_ART', 'GENRE_CLA', 'GENRE_EXH']\n",
    "\n",
    "for i in range(0,len(plays_type)):\n",
    "    \n",
    "    # 장르에 따른 '전체보기 - 상품명순' 페이지 접근\n",
    "    driver.get(\"https://ticket.melon.com/concert/index.htm?genreType=\"+plays_type[i])\n",
    "    time.sleep(1)\n",
    "    \n",
    "    p_link=[]       # 장르별 공연 상세페이지 링크 리스트\n",
    "    p_data=[]       # 장르별 공연정보 리스트\n",
    "    \n",
    "    # 최신순으로 정렬\n",
    "    driver.find_element_by_xpath('//*[@id=\"sort_lately_admin\"]/a').click()\n",
    "    \n",
    "    # 각 공연의 상세페이지 링크 p_link에 가져오기\n",
    "    get_link()\n",
    "    \n",
    "    for j in p_link:\n",
    "        \n",
    "        # 상세페이지 링크에 접근\n",
    "        driver.get(j)\n",
    "        time.sleep(0.5)\n",
    "            \n",
    "        # 공연정보 데이터를 p_data에 가져오기\n",
    "        get_data()\n",
    "        \n",
    "        # 전체 공연 리스트에 p_data 추가하기 (이중리스트)\n",
    "        plays.append(p_data)\n"
   ]
  },
  {
   "cell_type": "code",
   "execution_count": null,
   "metadata": {},
   "outputs": [],
   "source": []
  }
 ],
 "metadata": {
  "kernelspec": {
   "display_name": "Python 3",
   "language": "python",
   "name": "python3"
  },
  "language_info": {
   "codemirror_mode": {
    "name": "ipython",
    "version": 3
   },
   "file_extension": ".py",
   "mimetype": "text/x-python",
   "name": "python",
   "nbconvert_exporter": "python",
   "pygments_lexer": "ipython3",
   "version": "3.7.6"
  }
 },
 "nbformat": 4,
 "nbformat_minor": 4
}
