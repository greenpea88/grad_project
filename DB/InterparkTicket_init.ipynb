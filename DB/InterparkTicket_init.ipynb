{
 "cells": [
  {
   "cell_type": "markdown",
   "metadata": {},
   "source": [
    "## 인터파크티켓 크롤링\n",
    "#### 공연 개별 상세페이지에서 정보 가져오기"
   ]
  },
  {
   "cell_type": "code",
   "execution_count": 126,
   "metadata": {},
   "outputs": [],
   "source": [
    "from selenium import webdriver\n",
    "import datetime\n",
    "import time\n",
    "\n",
    "path=\"C:/Users/YYJ/Desktop/Programming/Python/Crawling/chromedriver.exe\"\n",
    "driver=webdriver.Chrome(path)"
   ]
  },
  {
   "cell_type": "code",
   "execution_count": 147,
   "metadata": {},
   "outputs": [],
   "source": [
    "def get_data(p_type):\n",
    "    \n",
    "    p_info={'Type':'', 'Title':'', 'TicketOpen':'', 'Venue':'', 'StartDate':'', 'EndDate':'', 'Performer':'', 'Time':'',\n",
    "           'RunningTime':'', 'Price':'', 'BuyTicket':'인터파크', 'PosterSrc':'', 'RegisteredTime':''}\n",
    "    performer=[]\n",
    "    \n",
    "#     #RegisteredTime\n",
    "#     p_info['RegisteredTime']=datetime.datetime.now()\n",
    "    \n",
    "    # Type\n",
    "    p_info['Type']=p_type\n",
    "    \n",
    "    # Title\n",
    "    p_info['Title']=driver.find_element_by_id('IDGoodsName').text\n",
    "    \n",
    "    elem=driver.find_element_by_id('TabA')\n",
    "    \n",
    "    #PosterSrc\n",
    "    p_info['PosterSrc']=elem.find_element_by_tag_name('img').get_attribute('src')\n",
    "    \n",
    "    # Price\n",
    "    try:\n",
    "        for tr in elem.find_elements_by_tag_name('tr'):\n",
    "            td=tr.find_elements_by_tag_name('td')\n",
    "            p_info['Price']=p_info['Price']+td[0].text+' '+td[2].text+', '\n",
    "        p_info['Price']=p_info['Price'][:-2]\n",
    "    except IndexError:\n",
    "        pass\n",
    "    \n",
    "    # Venue, StartDate, EndDate, Performer\n",
    "    for dl in elem.find_elements_by_tag_name('dl'):\n",
    "        info_type=dl.find_element_by_tag_name('dt')\n",
    "        info_data=dl.find_element_by_tag_name('dd')\n",
    "        \n",
    "        if info_type.text=='장소':\n",
    "            p_info['Venue']=info_data.text\n",
    "        elif info_type.text=='기간':\n",
    "            if '~' in info_data.text:\n",
    "                p_info['StartDate']=info_data.text.split(' ', 3)[0]       # split('기준', '횟수')\n",
    "                tmp=info_data.text.split(' ', 3)[2]\n",
    "                if tmp!='오픈런':\n",
    "                    p_info['EndDate']=tmp\n",
    "            else:\n",
    "                p_info['StartDate']=p_info['EndDate']=info_data.text.split(' ', 2)[0]\n",
    "        elif info_type.text=='출연':\n",
    "            driver.find_element_by_id('aTabC').click()\n",
    "            driver.switch_to.frame('ifrTabC')\n",
    "            for i in driver.find_elements_by_class_name('Actor'):\n",
    "                performer.append(i.find_element_by_tag_name('h3').text)\n",
    "            p_info['Performer']=performer\n",
    "        else:\n",
    "            pass\n",
    "        \n",
    "    driver.switch_to.default_content()\n",
    "\n",
    "    # Time, RunningTime\n",
    "    elem=driver.find_element_by_id('divTabArea')\n",
    "    for data in elem.find_elements_by_class_name('Data'):\n",
    "        info_type=data.find_element_by_tag_name('h4')\n",
    "        info_data=data.find_element_by_class_name('Data_infoarea')\n",
    "        \n",
    "        if info_type.text=='공연시간 정보':\n",
    "            p_info['Time']=info_data.text\n",
    "        elif info_type.text=='상품관련정보':\n",
    "            for tr in info_data.find_element_by_tag_name('table').find_elements_by_tag_name('tr'):\n",
    "                for th in tr.find_elements_by_tag_name('th'):\n",
    "                    if th.text=='공연시간':\n",
    "                        p_info['RunningTime']=tr.find_element_by_tag_name('td').text.split('분', 2)[0]\n",
    "                    else:\n",
    "                        pass\n",
    "        else:\n",
    "            pass\n",
    "    \n",
    "    print(p_info)\n",
    "    \n",
    "    return p_info"
   ]
  },
  {
   "cell_type": "code",
   "execution_count": 148,
   "metadata": {},
   "outputs": [],
   "source": [
    "def get_link():\n",
    "    \n",
    "    link=[]\n",
    "    p_table=driver.find_element_by_xpath('/html/body/table/tbody/tr[2]/td[3]/div/div/div[2]/div/table/tbody')\n",
    "\n",
    "    for row in p_table.find_elements_by_tag_name('tr'):\n",
    "        link.append(row.find_element_by_tag_name('a').get_attribute('href'))\n",
    "        \n",
    "    return link"
   ]
  },
  {
   "cell_type": "code",
   "execution_count": 161,
   "metadata": {},
   "outputs": [
    {
     "name": "stdout",
     "output_type": "stream",
     "text": [
      "{'Type': '2', 'Title': '가족음악극 〈한여름 밤의 꿈〉', 'TicketOpen': '', 'Venue': '세종문화회관 M씨어터', 'StartDate': '2021.01.08', 'EndDate': '2021.01.31', 'Performer': '', 'Time': '화-목 11시 / 금 19시 30분 / 토 14시, 17시 / 일 14시\\n(월 공연없음)', 'RunningTime': '70', 'Price': 'R석 40,000 원, S석 30,000 원, A석 20,000 원', 'BuyTicket': '인터파크', 'PosterSrc': 'http://ticketimage.interpark.com/Play/image/large/P0/P0002335_p.gif', 'RegisteredTime': ''}\n",
      "{'Type': '2', 'Title': '갈매기 - 제주', 'TicketOpen': '', 'Venue': '예술공간 오이', 'StartDate': '2020.11.14', 'EndDate': '2020.11.29', 'Performer': '', 'Time': '매주 토,일 / 3시, 7시', 'RunningTime': '90', 'Price': '전석(예매가) 11,500 원', 'BuyTicket': '인터파크', 'PosterSrc': 'http://ticketimage.interpark.com/Play/image/large/20/20008225_p.gif', 'RegisteredTime': ''}\n",
      "{'Type': '2', 'Title': '강제 결혼', 'TicketOpen': '', 'Venue': '대학로 코델 아트홀', 'StartDate': '2020.07.06', 'EndDate': '', 'Performer': '', 'Time': '매주 월요일 7시30분', 'RunningTime': '60', 'Price': '전석 30,000 원', 'BuyTicket': '인터파크', 'PosterSrc': 'http://ticketimage.interpark.com/Play/image/large/20/20006096_p.gif', 'RegisteredTime': ''}\n",
      "{'Type': '2', 'Title': '게으름을 죽여라', 'TicketOpen': '', 'Venue': '대학로 노을소극장', 'StartDate': '2020.11.25', 'EndDate': '2020.11.29', 'Performer': '', 'Time': '평일 20시 / 토,일 16시', 'RunningTime': '80', 'Price': '자유석 20,000 원', 'BuyTicket': '인터파크', 'PosterSrc': 'http://ticketimage.interpark.com/Play/image/large/20/20009802_p.gif', 'RegisteredTime': ''}\n",
      "{'Type': '2', 'Title': '공연배달서비스 간다 〈템플〉 - 의정부', 'TicketOpen': '', 'Venue': '의정부예술의전당 대극장', 'StartDate': '2020.11.30', 'EndDate': '2020.11.30', 'Performer': '', 'Time': '2020. 11. 30(월) 20:00', 'RunningTime': '90', 'Price': 'R석 30,000 원, S석 20,000 원', 'BuyTicket': '인터파크', 'PosterSrc': 'http://ticketimage.interpark.com/Play/image/large/20/20009481_p.gif', 'RegisteredTime': ''}\n",
      "{'Type': '2', 'Title': '공포 스릴러 연극〈멈춰진 계절〉', 'TicketOpen': '', 'Venue': '달밤엔씨어터', 'StartDate': '2019.09.10', 'EndDate': '2020.11.29', 'Performer': ['최수연', '이나경', '민나리', '임송현', '진혜란', '김지수', '허정호', '신재서'], 'Time': '[10월]\\n2,3,4,24,25,31일 6시 공연\\n\\n[11월]\\n토요일,일요일 6시공연', 'RunningTime': '70', 'Price': '전석 30,000 원', 'BuyTicket': '인터파크', 'PosterSrc': 'http://ticketimage.interpark.com/Play/image/large/19/19012781_p.gif', 'RegisteredTime': ''}\n",
      "{'Type': '2', 'Title': '공포연극 〈스위치〉', 'TicketOpen': '', 'Venue': '아루또 소극장', 'StartDate': '2017.07.18', 'EndDate': '2020.11.30', 'Performer': ['정영성', '정의광', '장용웅', '류현주', '최솔', '문민경', '권순미', '이연우', '최종관', '도지훈'], 'Time': '〈-10월 스케줄-〉\\n평일 오후 7시\\n토요일 및 공휴일 오후 4시, 6시30분\\n일요일 오후 4시\\n**10/1(목) 공연없음\\n**10/2(금),10/9(금) 오후 4시, 6시30분\\n\\n〈-11월 스케줄-〉\\n월-금 오후 7시\\n토요일 오후 4시, 6시30분\\n일요일 오후 4시', 'RunningTime': '100', 'Price': '전석 30,000 원', 'BuyTicket': '인터파크', 'PosterSrc': 'http://ticketimage.interpark.com/Play/image/large/18/18015523_p.gif', 'RegisteredTime': ''}\n",
      "{'Type': '2', 'Title': '공포연극 자취', 'TicketOpen': '', 'Venue': '댕로홀', 'StartDate': '2020.09.08', 'EndDate': '2020.12.31', 'Performer': ['전청일', '김현서', '유태우', '지나경', '서지현', '이지원', '송대명', '최성진', '정현규'], 'Time': '', 'RunningTime': '80', 'Price': '전석 35,000 원', 'BuyTicket': '인터파크', 'PosterSrc': 'http://ticketimage.interpark.com/Play/image/large/20/20007403_p.gif', 'RegisteredTime': ''}\n",
      "{'Type': '2', 'Title': '공포연극 조각', 'TicketOpen': '', 'Venue': '댕로홀', 'StartDate': '2020.09.08', 'EndDate': '2020.12.31', 'Performer': ['이섭정', '임재성', '김태동', '김대경', '고태열', '김건우', '최지수', '최효주', '김은지'], 'Time': '', 'RunningTime': '70', 'Price': '일반석 35,000 원, 심멎석 35,000 원', 'BuyTicket': '인터파크', 'PosterSrc': 'http://ticketimage.interpark.com/Play/image/large/20/20007336_p.gif', 'RegisteredTime': ''}\n",
      "{'Type': '2', 'Title': '국가대표 코믹극 〈보잉보잉〉', 'TicketOpen': '', 'Venue': '대학로 두레홀', 'StartDate': '2020.10.24', 'EndDate': '2020.12.31', 'Performer': ['전하영'], 'Time': '［11월 공연시간］\\n화-금 5시 / 토, 공휴일 3시, 6시 / 일 3시 / 월 공연없음\\n\\n［12월 공연시간］\\n화~금 5시 / 토,공휴일 2시,4시 / 일 3시  / 월 공연없음\\n* 12월 5일(토) 3시, 6시\\n* 12월 25일(금) 1시, 3시, 5시', 'RunningTime': '100', 'Price': '전석 35,000 원', 'BuyTicket': '인터파크', 'PosterSrc': 'http://ticketimage.interpark.com/Play/image/large/20/20008294_p.gif', 'RegisteredTime': ''}\n",
      "{'Type': '2', 'Title': '국립극장 기획공연 〈명색이 아프레걸〉', 'TicketOpen': '', 'Venue': '국립극장 달오름극장', 'StartDate': '2020.12.23', 'EndDate': '2021.01.24', 'Performer': '', 'Time': '화, 목, 금 19:30 / 수, 토, 일, 공휴일 15:00\\n(단, 12.23(수) 19:30 / 12.25(금) 15:00 / 1.1(금) 공연없음)', 'RunningTime': '상품상세정보 확인', 'Price': 'R석 50,000 원, S석 35,000 원, A석 20,000 원', 'BuyTicket': '인터파크', 'PosterSrc': 'http://ticketimage.interpark.com/Play/image/large/20/20009142_p.gif', 'RegisteredTime': ''}\n",
      "{'Type': '2', 'Title': '국립창극단 〈트로이의 여인들〉', 'TicketOpen': '', 'Venue': '국립극장 달오름극장', 'StartDate': '2020.12.03', 'EndDate': '2020.12.10', 'Performer': ['국립창극단'], 'Time': '평일 19시 30분 / 주말 15시', 'RunningTime': '110', 'Price': 'R석 50,000 원, S석 35,000 원, A석 20,000 원', 'BuyTicket': '인터파크', 'PosterSrc': 'http://ticketimage.interpark.com/Play/image/large/20/20005765_p.gif', 'RegisteredTime': ''}\n",
      "{'Type': '2', 'Title': '국민 코믹 연극 〈오백에 삼십〉 - 대학로 아트포레스트 1관', 'TicketOpen': '', 'Venue': '대학로 아트포레스트 1관', 'StartDate': '2018.09.04', 'EndDate': '', 'Performer': ['하성훈', '이정혁', '정민제', '이윤경', '이영지', '전대현', '장민수', '이건화', '박혜선', '이현진', '채송아', '박경현', '박민수', '김동빈', '김이슬', '정성조'], 'Time': '〈11월〉\\n월,화 5시\\n수,목 5시, 8시\\n금 2시, 5시, 8시\\n토 12시, 2시30분, 5시, 7시30분\\n일 12시, 2시30분, 5시\\n\\n〈12월〉\\n월~목 5시, 8시\\n금 2시, 5시, 8시\\n주말 12시, 2시30분, 5시, 7시30분\\n\\n※ 다양한 대학로 정보를 보고 싶다면?\\n\\n대학로발전소 네이버블로그 : http://blog.naver.com/plan_dps\\n대학로발전소 페이스북 : http://www.facebook.com/dpstation2016\\n대학로발전소 인스타그램 : http://www.instagram.com/dps_planning', 'RunningTime': '110', 'Price': '', 'BuyTicket': '인터파크', 'PosterSrc': 'http://ticketimage.interpark.com/Play/image/large/18/18010868_p.gif', 'RegisteredTime': ''}\n",
      "{'Type': '2', 'Title': '국민연극 〈라이어3탄 : 튀어!〉-여수', 'TicketOpen': '', 'Venue': '예울마루 소극장', 'StartDate': '2020.12.16', 'EndDate': '2020.12.26', 'Performer': '', 'Time': '2020년 12월 16일 수요일 14:00/19:30\\n2020년 12월 17일 목요일 14:00/19:30\\n2020년 12월 18일 금요일 14:00/19:30\\n2020년 12월 19일 토요일 14:00/17:00\\n2020년 12월 20일 일요일 17:00\\n2020년 12월 22일 화요일 19:30\\n2020년 12월 23일 수요일 19:30\\n2020년 12월 24일 목요일 19:30\\n2020년 12월 25일 금요일 14:00/17:00\\n2020년 12월 26일 토요일 14:00/17:00', 'RunningTime': '90', 'Price': '전석 30,000 원', 'BuyTicket': '인터파크', 'PosterSrc': 'http://ticketimage.interpark.com/Play/image/large/20/20009533_p.gif', 'RegisteredTime': ''}\n",
      "{'Type': '2', 'Title': '국민연극〈라이어 1탄〉- 대학로 민송아트홀 1관', 'TicketOpen': '', 'Venue': '대학로 민송아트홀 1관', 'StartDate': '1998.01.02', 'EndDate': '', 'Performer': ['정용락', '정영성', '권오율', '송기호', '안유민', '김시영', '김가현', '이미선', '이동수', '윤상철', '서강우', '강태웅', '권혁준', '김원식'], 'Time': '월 공연없음\\n화,목 4:30\\n수 7:30\\n금 4:30 7:30\\n토 2:00 4:30 7:00\\n일 2:00 4:30', 'RunningTime': '100', 'Price': '전석 35,000 원', 'BuyTicket': '인터파크', 'PosterSrc': 'http://ticketimage.interpark.com/Play/image/large/19/19018622_p.gif', 'RegisteredTime': ''}\n",
      "{'Type': '2', 'Title': '국민힐링대표 No.1휴먼코믹극 〈시크릿〉', 'TicketOpen': '', 'Venue': '대학로 탑아트홀', 'StartDate': '2009.01.23', 'EndDate': '', 'Performer': ['오다현', '김가을', '정민우', '정선아'], 'Time': '금 4:00 7:00\\n토,일 2:00 4:00 6:00\\n(월~목 : 휴관)\\n\\n▲시크릿 공식 카페 http://cafe.daum.net/playsecret\\n▲탑아트 홈페이지 http://www.top-art.co.kr', 'RunningTime': '75', 'Price': '일반석 40,000 원', 'BuyTicket': '인터파크', 'PosterSrc': 'http://ticketimage.interpark.com/Play/image/large/18/18009773_p.gif', 'RegisteredTime': ''}\n",
      "{'Type': '2', 'Title': '그날의 함성', 'TicketOpen': '', 'Venue': '대학로스타시티극장', 'StartDate': '2020.11.18', 'EndDate': '2020.11.19', 'Performer': '', 'Time': '-공연시간 70분(인터미션 없음)', 'RunningTime': '70', 'Price': '전석 20,000 원', 'BuyTicket': '인터파크', 'PosterSrc': 'http://ticketimage.interpark.com/Play/image/large/20/20009728_p.gif', 'RegisteredTime': ''}\n",
      "{'Type': '2', 'Title': '그녀, 둘 - 구미', 'TicketOpen': '', 'Venue': '소극장 공터다', 'StartDate': '2020.12.06', 'EndDate': '2020.12.06', 'Performer': '', 'Time': '일요일 20시', 'RunningTime': '50', 'Price': '전석 20,000 원', 'BuyTicket': '인터파크', 'PosterSrc': 'http://ticketimage.interpark.com/Play/image/large/20/20009412_p.gif', 'RegisteredTime': ''}\n",
      "{'Type': '2', 'Title': '그녀를 믿지마세요', 'TicketOpen': '', 'Venue': '대학로 스타시티 타이니앨리스 (구 아트홀 마리카2관)', 'StartDate': '2018.06.01', 'EndDate': '2020.11.30', 'Performer': ['윤종빈', '정현희', '김현진', '강지수', '권태진', '유상원', '김의찬', '정태영'], 'Time': '〈11월〉\\n토: 오후 4시 / 일: 오후 3시', 'RunningTime': '100', 'Price': '일반석 35,000 원', 'BuyTicket': '인터파크', 'PosterSrc': 'http://ticketimage.interpark.com/Play/image/large/18/18007314_p.gif', 'RegisteredTime': ''}\n"
     ]
    },
    {
     "name": "stdout",
     "output_type": "stream",
     "text": [
      "{'Type': '2', 'Title': '그때 우리 - 부산', 'TicketOpen': '', 'Venue': '초콜릿팩토리', 'StartDate': '2020.11.06', 'EndDate': '2020.11.15', 'Performer': '', 'Time': '- 평일 오후 8시 / 토요일 오후 4시 / 일요일 오후 5시\\n*월요일 공연없음', 'RunningTime': '85', 'Price': '', 'BuyTicket': '인터파크', 'PosterSrc': 'http://ticketimage.interpark.com/Play/image/large/20/20009333_p.gif', 'RegisteredTime': ''}\n",
      "{'Type': '2', 'Title': '극한연애 - 부산', 'TicketOpen': '', 'Venue': '부산 초콜릿팩토리', 'StartDate': '2020.11.20', 'EndDate': '2021.01.03', 'Performer': '', 'Time': '［공연시간］\\n평일: 오후 8시\\n토요일: 오후 4시, 7시\\n일요일: 오후 5시\\n*월, 화, 수 공연없음\\n\\n*단 12월21일(월)~31일(목) 2주간\\n매일 공연 있음 (월, 화, 수, 목, 금, 토, 일)\\n\\n［크리스마스 주 공연시간］\\n*12월24일(목): 오후 3시, 5시 30분, 7시 30분\\n*12월25일(금): 오전 11시, 오후 1시, 4시, 7시\\n*12월26일(토): 오후 1시, 4시\\n*12월27일(일): 오후 2시, 5시\\n*1월1일(금): 오후 2시, 5시', 'RunningTime': '90', 'Price': '전석(평일 1인관람권) 12,900 원', 'BuyTicket': '인터파크', 'PosterSrc': 'http://ticketimage.interpark.com/Play/image/large/20/20009495_p.gif', 'RegisteredTime': ''}\n",
      "{'Type': '2', 'Title': '끝까지 간다', 'TicketOpen': '', 'Venue': '북극곰소극장', 'StartDate': '2019.12.24', 'EndDate': '', 'Performer': ['윤도훈', '김태근', '윤석민', '김준', '박호진', '최승주', '이하은', '정지연', '양근아'], 'Time': '［11월］\\n공연날짜 : 11월 6,7,8,13,14,15,20,21,22,27,28,29 (금,토,일)\\n공연시간 : 평일 20시 / 주말(토,일) 공휴일 18시', 'RunningTime': '80', 'Price': '돗자리석 25,000 원, 일반석 35,000 원', 'BuyTicket': '인터파크', 'PosterSrc': 'http://ticketimage.interpark.com/Play/image/large/19/19018979_p.gif', 'RegisteredTime': ''}\n",
      "{'Type': '2', 'Title': '낙타상자 - 강동', 'TicketOpen': '', 'Venue': '강동아트센터 대극장 한강', 'StartDate': '2020.11.20', 'EndDate': '2020.11.21', 'Performer': ['서창호', '박상종', '김정호', '이정훈', '홍의준', '김영노', '박주연', '원경식', '임진구', '이소연', '최하윤'], 'Time': '2020년 11월 20일 금요일 오후 8시\\n2020년 11월 21일 토요일 오후 3시', 'RunningTime': '100', 'Price': 'R석 40,000 원, S석 30,000 원', 'BuyTicket': '인터파크', 'PosterSrc': 'http://ticketimage.interpark.com/Play/image/large/20/20008654_p.gif', 'RegisteredTime': ''}\n",
      "{'Type': '2', 'Title': '너에게로 또 다시 - 광주', 'TicketOpen': '', 'Venue': '상무지구 기분좋은극장', 'StartDate': '2020.11.11', 'EndDate': '2020.12.27', 'Performer': '', 'Time': '- 화~금 저녁 8시 / 토,일 오후 3시, 6시\\n- 12월 24일 오후 6시, 9시\\n- 12월 25일 오후 3시, 6시\\n- 월요일 휴관', 'RunningTime': '100', 'Price': '전석 35,000 원', 'BuyTicket': '인터파크', 'PosterSrc': 'http://ticketimage.interpark.com/Play/image/large/20/20008575_p.gif', 'RegisteredTime': ''}\n",
      "{'Type': '2', 'Title': '농마국수', 'TicketOpen': '', 'Venue': '대학로 스타시티 후암스테이지 1관', 'StartDate': '2020.11.21', 'EndDate': '2020.11.22', 'Performer': '', 'Time': '2020년 11월 21일(토) 오후 5시\\n2020년 11월 22일(일) 오후 4시', 'RunningTime': '70', 'Price': '전석 20,000 원', 'BuyTicket': '인터파크', 'PosterSrc': 'http://ticketimage.interpark.com/Play/image/large/20/20009619_p.gif', 'RegisteredTime': ''}\n",
      "{'Type': '2', 'Title': '늘근도둑이야기 - 화성(화성아트홀)', 'TicketOpen': '', 'Venue': '화성아트홀', 'StartDate': '2020.11.21', 'EndDate': '2020.11.21', 'Performer': ['노진원', '박철민', '이호연'], 'Time': '2020년 11월 21일(토) 오후 2시 / 오후 6시\\n(총 2회 공연)', 'RunningTime': '100', 'Price': '전석 10,000 원', 'BuyTicket': '인터파크', 'PosterSrc': 'http://ticketimage.interpark.com/Play/image/large/20/20009575_p.gif', 'RegisteredTime': ''}\n",
      "{'Type': '2', 'Title': '대학로 청소년연극 〈사춘기메들리〉', 'TicketOpen': '', 'Venue': '아티스탄홀', 'StartDate': '2018.03.10', 'EndDate': '2020.11.29', 'Performer': ['서명균', '박유은', '박수정', '김건희', '임보현', '박영광'], 'Time': '주말 오후1시 / 평일 공연 없음', 'RunningTime': '100', 'Price': '', 'BuyTicket': '인터파크', 'PosterSrc': 'http://ticketimage.interpark.com/Play/image/large/18/18002363_p.gif', 'RegisteredTime': ''}\n",
      "{'Type': '2', 'Title': '대학로 코믹연극 〈죽여주는이야기〉', 'TicketOpen': '', 'Venue': '삼형제극장', 'StartDate': '2020.09.30', 'EndDate': '2020.11.29', 'Performer': '', 'Time': '- 10월 기본 공연 시간\\n토요일, 일요일 14시, 17시 2회 공연\\n\\n※ 변경 회차\\n10월1일~4일 14시 17시 2회 공연\\n10월9일 14시 17시 2회 공연\\n\\n- 11월 기본 공연 시간\\n금요일 : 20시 1회 공연\\n토요일, 일요일 : 14시, 17시 2회 공연', 'RunningTime': '100', 'Price': 'VIP석 35,000 원, 일반석 35,000 원', 'BuyTicket': '인터파크', 'PosterSrc': 'http://ticketimage.interpark.com/Play/image/large/20/20007676_p.gif', 'RegisteredTime': ''}\n",
      "{'Type': '2', 'Title': '도살장의 에스메랄다', 'TicketOpen': '', 'Venue': '스튜디오SK', 'StartDate': '2020.11.24', 'EndDate': '2020.11.27', 'Performer': '', 'Time': '화,수,목,금 오후 8시', 'RunningTime': '60', 'Price': '전석 30,000 원', 'BuyTicket': '인터파크', 'PosterSrc': 'http://ticketimage.interpark.com/Play/image/large/20/20009421_p.gif', 'RegisteredTime': ''}\n",
      "{'Type': '2', 'Title': '동치미', 'TicketOpen': '', 'Venue': '예그린씨어터', 'StartDate': '2020.11.27', 'EndDate': '2020.11.29', 'Performer': '', 'Time': '-27일(금) 오후 7시 30분\\n-28일(토) 오후 3시 30분\\n-29일(일) 오후 3시 30분', 'RunningTime': '90', 'Price': '전석 50,000 원', 'BuyTicket': '인터파크', 'PosterSrc': 'http://ticketimage.interpark.com/Play/image/large/20/20008510_p.gif', 'RegisteredTime': ''}\n",
      "{'Type': '2', 'Title': '동행 - 인천', 'TicketOpen': '', 'Venue': '인천계양문화회관', 'StartDate': '2020.11.14', 'EndDate': '2020.11.14', 'Performer': '', 'Time': '오후 3시 / 7시', 'RunningTime': '100', 'Price': '전석 30,000 원', 'BuyTicket': '인터파크', 'PosterSrc': 'http://ticketimage.interpark.com/Play/image/large/20/20009340_p.gif', 'RegisteredTime': ''}\n",
      "{'Type': '2', 'Title': '뜨거운로맨스 바라보다', 'TicketOpen': '', 'Venue': 'R＆J 씨어터', 'StartDate': '2020.11.03', 'EndDate': '2020.11.15', 'Performer': '', 'Time': '평일 17시 / 주말 14시, 16시 30분\\n\\n* 11월 3일(화) 20시\\n* 11월 4일(수) 공연 없음\\n* 11월 15일(일) 15시', 'RunningTime': '80', 'Price': '전석 12,000 원', 'BuyTicket': '인터파크', 'PosterSrc': 'http://ticketimage.interpark.com/Play/image/large/20/20008314_p.gif', 'RegisteredTime': ''}\n",
      "{'Type': '2', 'Title': '리미트(RE-MEET)', 'TicketOpen': '', 'Venue': 'JTN 아트홀 2관', 'StartDate': '2018.08.08', 'EndDate': '', 'Performer': ['오미란', '김민교', '황유리', '김사랑', '허성민', '최재혁', '김영환'], 'Time': '금요일 8시 / 토요일 3시, 6시 / 일요일 14시\\n\\n- 09월30일(수) 2시, 5시 (추석연휴)\\n- 10월02일(금) 2시, 5시 (추석연휴)\\n- 10월03일(토) 3시, 6시 (개천절)\\n- 10월09일(금) 2시, 5시 (한글날)\\n\\n인스타그램: https://www.instagram.com/ziancompany\\n네이버 블로그: https://blog.naver.com/ziancompany\\n페이스북: https://www.facebook.com/ziancompany/', 'RunningTime': '110', 'Price': '일반석 40,000 원', 'BuyTicket': '인터파크', 'PosterSrc': 'http://ticketimage.interpark.com/Play/image/large/18/18010295_p.gif', 'RegisteredTime': ''}\n",
      "{'Type': '2', 'Title': '리진', 'TicketOpen': '', 'Venue': '대학로예술극장 대극장', 'StartDate': '2020.11.06', 'EndDate': '2020.11.15', 'Performer': ['김화영', '이화영', '한록수', '공재민', '이승현', '정대곤'], 'Time': '평일 오후 8시 / 월요일 공연 없음 / 토,일 오후 3시', 'RunningTime': '110', 'Price': 'R석 60,000 원, S석 40,000 원', 'BuyTicket': '인터파크', 'PosterSrc': 'http://ticketimage.interpark.com/Play/image/large/20/20008524_p.gif', 'RegisteredTime': ''}\n",
      "{'Type': '2', 'Title': '마임＋- 구미', 'TicketOpen': '', 'Venue': '소극장 공터다', 'StartDate': '2020.12.01', 'EndDate': '2020.12.01', 'Performer': '', 'Time': '2020년 12월 1일(화) 오후 8시', 'RunningTime': '65', 'Price': '전석 20,000 원', 'BuyTicket': '인터파크', 'PosterSrc': 'http://ticketimage.interpark.com/Play/image/large/20/20009391_p.gif', 'RegisteredTime': ''}\n",
      "{'Type': '2', 'Title': '모두의 남자', 'TicketOpen': '', 'Venue': '선돌극장', 'StartDate': '2020.11.17', 'EndDate': '2020.11.29', 'Performer': '', 'Time': '평일 8시, 주말 4시, 월 공연없음', 'RunningTime': '100', 'Price': '전석 30,000 원', 'BuyTicket': '인터파크', 'PosterSrc': 'http://ticketimage.interpark.com/Play/image/large/20/20008505_p.gif', 'RegisteredTime': ''}\n",
      "{'Type': '2', 'Title': '바라봄', 'TicketOpen': '', 'Venue': '드림시어터 소극장', 'StartDate': '2020.12.02', 'EndDate': '2020.12.13', 'Performer': '', 'Time': '- 평일(월,화,수,목,금): 19시\\n- 토요일: 14시, 18시\\n- 일요일: 16시', 'RunningTime': '80', 'Price': '전석 30,000 원', 'BuyTicket': '인터파크', 'PosterSrc': 'http://ticketimage.interpark.com/Play/image/large/20/20009497_p.gif', 'RegisteredTime': ''}\n",
      "{'Type': '2', 'Title': '박상원 모노드라마 〈콘트라바쓰〉', 'TicketOpen': '', 'Venue': '예술의전당 자유소극장', 'StartDate': '2020.11.07', 'EndDate': '2020.11.29', 'Performer': ['박상원'], 'Time': '평일 오후 8시 / 토 오후 7시, 일 오후 2시 (월요일 공연 없음)\\n※ 11월 12일 8시,11월 17일 8시, 11월 20일 8시, 11월 21일 7시공연은 단체판매로 마감되었습니다.', 'RunningTime': '105', 'Price': 'R석 70,000 원, S석 50,000 원', 'BuyTicket': '인터파크', 'PosterSrc': 'http://ticketimage.interpark.com/Play/image/large/20/20007980_p.gif', 'RegisteredTime': ''}\n",
      "{'Type': '2', 'Title': '반쪼가리 자작', 'TicketOpen': '', 'Venue': '소극장 알과핵', 'StartDate': '2020.11.05', 'EndDate': '2020.11.15', 'Performer': '', 'Time': '평일 20시 / 주말 3시 (월 쉼)', 'RunningTime': '90', 'Price': '전석 30,000 원', 'BuyTicket': '인터파크', 'PosterSrc': 'http://ticketimage.interpark.com/Play/image/large/20/20008465_p.gif', 'RegisteredTime': ''}\n"
     ]
    },
    {
     "name": "stdout",
     "output_type": "stream",
     "text": [
      "{'Type': '2', 'Title': '배리어프리 뮤지컬', 'TicketOpen': '', 'Venue': '세종문화회관 M씨어터', 'StartDate': '2020.11.11', 'EndDate': '2020.11.15', 'Performer': '', 'Time': '평일 20:00 / 토 14:00, 19:00 / 일 14:00', 'RunningTime': '150', 'Price': 'R석 70,000 원, S석 50,000 원', 'BuyTicket': '인터파크', 'PosterSrc': 'http://ticketimage.interpark.com/Play/image/large/P0/P0002328_p.gif', 'RegisteredTime': ''}\n",
      "{'Type': '2', 'Title': '뷰티풀라이프', 'TicketOpen': '', 'Venue': 'JTN 아트홀 4관', 'StartDate': '2018.02.20', 'EndDate': '', 'Performer': ['조준', '김원진', '김진호', '김수현', '김희정', '김가현', '정경식', '권순미'], 'Time': '금: 20시 / 토: 15시, 18시 / 일: 14시\\n\\n☞ 뷰티풀라이프 공식 블로그 바로가기 : https://blog.naver.com/ziancompany\\n☞ 뷰티풀라이프 페이스북 바로가기 : https://www.facebook.com/ziancompany/\\n☞ 뷰티풀라이프 인스타그램 바로가기 : https://www.instagram.com/ziancompany\\n☞ 뷰티풀라이프 트위터 바로가기 : twitter.com/zipcompany', 'RunningTime': '90', 'Price': '일반석 40,000 원', 'BuyTicket': '인터파크', 'PosterSrc': 'http://ticketimage.interpark.com/Play/image/large/18/18001569_p.gif', 'RegisteredTime': ''}\n",
      "{'Type': '2', 'Title': '뷰티풀라이프 - 대전공연', 'TicketOpen': '', 'Venue': '이수아트홀', 'StartDate': '2020.11.20', 'EndDate': '2021.01.03', 'Performer': '', 'Time': '화~금 : 오후 8시 / 토요일 : 오후 3시, 6시 / 일요일 : 오후 2시, 5시\\n\\n* 월요일 공연없음\\n* 12월 25일(금) 2시, 5시, 8시\\n* 1월 1일(금) 4시', 'RunningTime': '100', 'Price': 'R석 35,000 원, S석 30,000 원', 'BuyTicket': '인터파크', 'PosterSrc': 'http://ticketimage.interpark.com/Play/image/large/20/20008339_p.gif', 'RegisteredTime': ''}\n",
      "{'Type': '2', 'Title': '새라새ON - 낙타상자- 고양', 'TicketOpen': '', 'Venue': '고양아람누리 새라새극장', 'StartDate': '2020.11.13', 'EndDate': '2020.11.15', 'Performer': ['서창호', '박상종', '김정호', '이정훈', '홍의준', '김영노', '박주연', '원경식', '임진구', '최하윤', '이소연'], 'Time': '2020년 11월 13일(금) ~ 2020년 11월 15일(일)\\n금 오후 8시/토 오후 2시, 6시, /일 오후 3시', 'RunningTime': '100', 'Price': '1층석 40,000 원, 2층석 30,000 원', 'BuyTicket': '인터파크', 'PosterSrc': 'http://ticketimage.interpark.com/Play/image/large/20/20002464_p.gif', 'RegisteredTime': ''}\n",
      "{'Type': '2', 'Title': '셜록홈즈', 'TicketOpen': '', 'Venue': '대학로M시어터', 'StartDate': '2020.02.01', 'EndDate': '2020.12.31', 'Performer': ['전슬기', '황성빈', '이영운', '이두연', '조제상', '이건희', '문민', '문상준', '황동우', '정수용', '강지웅', '서가현', '장하나', '고연경'], 'Time': '[11월]\\n평일 - 3:30 / 6:30\\n토,일,공휴일 - 2:15 / 4:45 / 7:15\\n\\n[12월]\\n평일 - 3:30 / 6:30\\n주말 및 12월 31일 - 1:00/ 3:15/ 5:30/ 7:45\\n12월 24일~26일 11:30/ 1:30/ 3:30/ 5:30/ 7:30/ 9:30', 'RunningTime': '90', 'Price': '전석 40,000 원', 'BuyTicket': '인터파크', 'PosterSrc': 'http://ticketimage.interpark.com/Play/image/large/20/20000474_p.gif', 'RegisteredTime': ''}\n",
      "{'Type': '2', 'Title': '셜록홈즈 - 부산', 'TicketOpen': '', 'Venue': 'BNK부산은행조은극장 1관', 'StartDate': '2020.11.05', 'EndDate': '2021.01.03', 'Performer': '', 'Time': '［ 정규공연 ］\\n평일ㅣ오후 7:30\\n주말ㅣ오후 3:00, 6:00\\n\\n［ 공연없음 ］\\n매주 월요일 공연없음\\n\\n* 12월24일(목) 오후 4:00, 7:00\\n* 12월25일(금) 오후 3:00, 6:00\\n* 12월31일(목) 오후 7:30\\n* 01월01일(금) 오후 3:30, 6:30\\n\\n▶ BNK부산은행조은극장의 <셜록홈즈>를 더 알고싶다면？ ◀\\n［카카오톡 \\u3000- 공식］ http://pf.kakao.com/_xfxaeAj/chat\\n［인스타그램 - 공식］ http://instagram.com/joeuntheatre', 'RunningTime': '90', 'Price': '전석 30,000 원', 'BuyTicket': '인터파크', 'PosterSrc': 'http://ticketimage.interpark.com/Play/image/large/20/20008239_p.gif', 'RegisteredTime': ''}\n",
      "{'Type': '2', 'Title': '스카팽 - 의정부', 'TicketOpen': '', 'Venue': '의정부예술의전당 대극장', 'StartDate': '2020.11.20', 'EndDate': '2020.11.21', 'Performer': ['이중현', '성원', '박경주', '이호철', '이유진', '홍승균', '윤세인', '문예주', '권은혜', '김명기'], 'Time': '2020. 11. 20(금) 20시\\n2020. 11. 21(토) 16시', 'RunningTime': '115', 'Price': 'R석 40,000 원, S석 30,000 원', 'BuyTicket': '인터파크', 'PosterSrc': 'http://ticketimage.interpark.com/Play/image/large/20/20008441_p.gif', 'RegisteredTime': ''}\n",
      "{'Type': '2', 'Title': '스탠드업 홍대', 'TicketOpen': '', 'Venue': '제이디비스퀘어', 'StartDate': '2020.09.17', 'EndDate': '2020.11.26', 'Performer': '', 'Time': '- 매주 목요일 오후 9시 30분\\n- 10월 1일(목) 공연 없음\\n- 11월 공연 일정 : 11/5(목), 11/12(목), 11/19(목), 11/26(목)', 'RunningTime': '90', 'Price': '전석 30,000 원', 'BuyTicket': '인터파크', 'PosterSrc': 'http://ticketimage.interpark.com/Play/image/large/20/20007409_p.gif', 'RegisteredTime': ''}\n",
      "{'Type': '2', 'Title': '스푸트니크', 'TicketOpen': '', 'Venue': '서강대학교 메리홀 소극장', 'StartDate': '2020.11.05', 'EndDate': '2020.11.15', 'Performer': ['선명균', '문현정', '김세환', '신사랑'], 'Time': '평일 8시 / 토, 일 4시 / 월 공연없음\\n\\n* 11월 7일(토), 8일(일) 공연은 매진되었습니다.', 'RunningTime': '70', 'Price': '전석 30,000 원', 'BuyTicket': '인터파크', 'PosterSrc': 'http://ticketimage.interpark.com/Play/image/large/20/20005698_p.gif', 'RegisteredTime': ''}\n",
      "{'Type': '2', 'Title': '시사풍자코메디 늘근도둑이야기-전주', 'TicketOpen': '', 'Venue': '한국소리문화의전당 연지홀', 'StartDate': '2021.01.04', 'EndDate': '2021.01.05', 'Performer': '', 'Time': '2021년 1월 4일(월)\\n2021년 1월 5일(화)', 'RunningTime': '100', 'Price': 'R석 49,000 원, S석 39,000 원, A석 29,000 원', 'BuyTicket': '인터파크', 'PosterSrc': 'http://ticketimage.interpark.com/Play/image/large/19/19017577_p.gif', 'RegisteredTime': ''}\n",
      "{'Type': '2', 'Title': '아날로그 정통 체력극 〈신바람 난 삼대〉', 'TicketOpen': '', 'Venue': '대학로 아트포레스트 2관', 'StartDate': '2020.12.10', 'EndDate': '2021.03.01', 'Performer': ['유일한', '전재형', '류성훈', '한훈', '김소민'], 'Time': '화~금 5시, 8시 / 토 1시, 4시, 7시 / 일 2시, 5시 (월요일 쉼)\\n* 단 12.24 2시, 5시, 8시 / 12.25 1시, 4시, 7시', 'RunningTime': '90', 'Price': '전석 35,000 원', 'BuyTicket': '인터파크', 'PosterSrc': 'http://ticketimage.interpark.com/Play/image/large/20/20009530_p.gif', 'RegisteredTime': ''}\n"
     ]
    },
    {
     "ename": "KeyboardInterrupt",
     "evalue": "",
     "output_type": "error",
     "traceback": [
      "\u001b[1;31m---------------------------------------------------------------------------\u001b[0m",
      "\u001b[1;31mKeyboardInterrupt\u001b[0m                         Traceback (most recent call last)",
      "\u001b[1;32m<ipython-input-161-7aae1d14604a>\u001b[0m in \u001b[0;36m<module>\u001b[1;34m\u001b[0m\n\u001b[0;32m     19\u001b[0m \u001b[1;33m\u001b[0m\u001b[0m\n\u001b[0;32m     20\u001b[0m         \u001b[1;31m# 상세페이지에서 얻은 공연정보 데이터를 p_data에 추가하기\u001b[0m\u001b[1;33m\u001b[0m\u001b[1;33m\u001b[0m\u001b[1;33m\u001b[0m\u001b[0m\n\u001b[1;32m---> 21\u001b[1;33m         \u001b[0mp_data\u001b[0m\u001b[1;33m.\u001b[0m\u001b[0mappend\u001b[0m\u001b[1;33m(\u001b[0m\u001b[0mget_data\u001b[0m\u001b[1;33m(\u001b[0m\u001b[0mp_type\u001b[0m\u001b[1;33m[\u001b[0m\u001b[0mkey\u001b[0m\u001b[1;33m]\u001b[0m\u001b[1;33m)\u001b[0m\u001b[1;33m)\u001b[0m\u001b[1;33m\u001b[0m\u001b[1;33m\u001b[0m\u001b[0m\n\u001b[0m\u001b[0;32m     22\u001b[0m \u001b[1;33m\u001b[0m\u001b[0m\n",
      "\u001b[1;32m<ipython-input-147-85e1f0dacac8>\u001b[0m in \u001b[0;36mget_data\u001b[1;34m(p_type)\u001b[0m\n\u001b[0;32m     12\u001b[0m \u001b[1;33m\u001b[0m\u001b[0m\n\u001b[0;32m     13\u001b[0m     \u001b[1;31m# Title\u001b[0m\u001b[1;33m\u001b[0m\u001b[1;33m\u001b[0m\u001b[1;33m\u001b[0m\u001b[0m\n\u001b[1;32m---> 14\u001b[1;33m     \u001b[0mp_info\u001b[0m\u001b[1;33m[\u001b[0m\u001b[1;34m'Title'\u001b[0m\u001b[1;33m]\u001b[0m\u001b[1;33m=\u001b[0m\u001b[0mdriver\u001b[0m\u001b[1;33m.\u001b[0m\u001b[0mfind_element_by_id\u001b[0m\u001b[1;33m(\u001b[0m\u001b[1;34m'IDGoodsName'\u001b[0m\u001b[1;33m)\u001b[0m\u001b[1;33m.\u001b[0m\u001b[0mtext\u001b[0m\u001b[1;33m\u001b[0m\u001b[1;33m\u001b[0m\u001b[0m\n\u001b[0m\u001b[0;32m     15\u001b[0m \u001b[1;33m\u001b[0m\u001b[0m\n\u001b[0;32m     16\u001b[0m     \u001b[0melem\u001b[0m\u001b[1;33m=\u001b[0m\u001b[0mdriver\u001b[0m\u001b[1;33m.\u001b[0m\u001b[0mfind_element_by_id\u001b[0m\u001b[1;33m(\u001b[0m\u001b[1;34m'TabA'\u001b[0m\u001b[1;33m)\u001b[0m\u001b[1;33m\u001b[0m\u001b[1;33m\u001b[0m\u001b[0m\n",
      "\u001b[1;32mC:\\ProgramData\\Anaconda3\\lib\\site-packages\\selenium\\webdriver\\remote\\webdriver.py\u001b[0m in \u001b[0;36mfind_element_by_id\u001b[1;34m(self, id_)\u001b[0m\n\u001b[0;32m    358\u001b[0m             \u001b[0melement\u001b[0m \u001b[1;33m=\u001b[0m \u001b[0mdriver\u001b[0m\u001b[1;33m.\u001b[0m\u001b[0mfind_element_by_id\u001b[0m\u001b[1;33m(\u001b[0m\u001b[1;34m'foo'\u001b[0m\u001b[1;33m)\u001b[0m\u001b[1;33m\u001b[0m\u001b[1;33m\u001b[0m\u001b[0m\n\u001b[0;32m    359\u001b[0m         \"\"\"\n\u001b[1;32m--> 360\u001b[1;33m         \u001b[1;32mreturn\u001b[0m \u001b[0mself\u001b[0m\u001b[1;33m.\u001b[0m\u001b[0mfind_element\u001b[0m\u001b[1;33m(\u001b[0m\u001b[0mby\u001b[0m\u001b[1;33m=\u001b[0m\u001b[0mBy\u001b[0m\u001b[1;33m.\u001b[0m\u001b[0mID\u001b[0m\u001b[1;33m,\u001b[0m \u001b[0mvalue\u001b[0m\u001b[1;33m=\u001b[0m\u001b[0mid_\u001b[0m\u001b[1;33m)\u001b[0m\u001b[1;33m\u001b[0m\u001b[1;33m\u001b[0m\u001b[0m\n\u001b[0m\u001b[0;32m    361\u001b[0m \u001b[1;33m\u001b[0m\u001b[0m\n\u001b[0;32m    362\u001b[0m     \u001b[1;32mdef\u001b[0m \u001b[0mfind_elements_by_id\u001b[0m\u001b[1;33m(\u001b[0m\u001b[0mself\u001b[0m\u001b[1;33m,\u001b[0m \u001b[0mid_\u001b[0m\u001b[1;33m)\u001b[0m\u001b[1;33m:\u001b[0m\u001b[1;33m\u001b[0m\u001b[1;33m\u001b[0m\u001b[0m\n",
      "\u001b[1;32mC:\\ProgramData\\Anaconda3\\lib\\site-packages\\selenium\\webdriver\\remote\\webdriver.py\u001b[0m in \u001b[0;36mfind_element\u001b[1;34m(self, by, value)\u001b[0m\n\u001b[0;32m    976\u001b[0m         return self.execute(Command.FIND_ELEMENT, {\n\u001b[0;32m    977\u001b[0m             \u001b[1;34m'using'\u001b[0m\u001b[1;33m:\u001b[0m \u001b[0mby\u001b[0m\u001b[1;33m,\u001b[0m\u001b[1;33m\u001b[0m\u001b[1;33m\u001b[0m\u001b[0m\n\u001b[1;32m--> 978\u001b[1;33m             'value': value})['value']\n\u001b[0m\u001b[0;32m    979\u001b[0m \u001b[1;33m\u001b[0m\u001b[0m\n\u001b[0;32m    980\u001b[0m     \u001b[1;32mdef\u001b[0m \u001b[0mfind_elements\u001b[0m\u001b[1;33m(\u001b[0m\u001b[0mself\u001b[0m\u001b[1;33m,\u001b[0m \u001b[0mby\u001b[0m\u001b[1;33m=\u001b[0m\u001b[0mBy\u001b[0m\u001b[1;33m.\u001b[0m\u001b[0mID\u001b[0m\u001b[1;33m,\u001b[0m \u001b[0mvalue\u001b[0m\u001b[1;33m=\u001b[0m\u001b[1;32mNone\u001b[0m\u001b[1;33m)\u001b[0m\u001b[1;33m:\u001b[0m\u001b[1;33m\u001b[0m\u001b[1;33m\u001b[0m\u001b[0m\n",
      "\u001b[1;32mC:\\ProgramData\\Anaconda3\\lib\\site-packages\\selenium\\webdriver\\remote\\webdriver.py\u001b[0m in \u001b[0;36mexecute\u001b[1;34m(self, driver_command, params)\u001b[0m\n\u001b[0;32m    317\u001b[0m \u001b[1;33m\u001b[0m\u001b[0m\n\u001b[0;32m    318\u001b[0m         \u001b[0mparams\u001b[0m \u001b[1;33m=\u001b[0m \u001b[0mself\u001b[0m\u001b[1;33m.\u001b[0m\u001b[0m_wrap_value\u001b[0m\u001b[1;33m(\u001b[0m\u001b[0mparams\u001b[0m\u001b[1;33m)\u001b[0m\u001b[1;33m\u001b[0m\u001b[1;33m\u001b[0m\u001b[0m\n\u001b[1;32m--> 319\u001b[1;33m         \u001b[0mresponse\u001b[0m \u001b[1;33m=\u001b[0m \u001b[0mself\u001b[0m\u001b[1;33m.\u001b[0m\u001b[0mcommand_executor\u001b[0m\u001b[1;33m.\u001b[0m\u001b[0mexecute\u001b[0m\u001b[1;33m(\u001b[0m\u001b[0mdriver_command\u001b[0m\u001b[1;33m,\u001b[0m \u001b[0mparams\u001b[0m\u001b[1;33m)\u001b[0m\u001b[1;33m\u001b[0m\u001b[1;33m\u001b[0m\u001b[0m\n\u001b[0m\u001b[0;32m    320\u001b[0m         \u001b[1;32mif\u001b[0m \u001b[0mresponse\u001b[0m\u001b[1;33m:\u001b[0m\u001b[1;33m\u001b[0m\u001b[1;33m\u001b[0m\u001b[0m\n\u001b[0;32m    321\u001b[0m             \u001b[0mself\u001b[0m\u001b[1;33m.\u001b[0m\u001b[0merror_handler\u001b[0m\u001b[1;33m.\u001b[0m\u001b[0mcheck_response\u001b[0m\u001b[1;33m(\u001b[0m\u001b[0mresponse\u001b[0m\u001b[1;33m)\u001b[0m\u001b[1;33m\u001b[0m\u001b[1;33m\u001b[0m\u001b[0m\n",
      "\u001b[1;32mC:\\ProgramData\\Anaconda3\\lib\\site-packages\\selenium\\webdriver\\remote\\remote_connection.py\u001b[0m in \u001b[0;36mexecute\u001b[1;34m(self, command, params)\u001b[0m\n\u001b[0;32m    372\u001b[0m         \u001b[0mdata\u001b[0m \u001b[1;33m=\u001b[0m \u001b[0mutils\u001b[0m\u001b[1;33m.\u001b[0m\u001b[0mdump_json\u001b[0m\u001b[1;33m(\u001b[0m\u001b[0mparams\u001b[0m\u001b[1;33m)\u001b[0m\u001b[1;33m\u001b[0m\u001b[1;33m\u001b[0m\u001b[0m\n\u001b[0;32m    373\u001b[0m         \u001b[0murl\u001b[0m \u001b[1;33m=\u001b[0m \u001b[1;34m'%s%s'\u001b[0m \u001b[1;33m%\u001b[0m \u001b[1;33m(\u001b[0m\u001b[0mself\u001b[0m\u001b[1;33m.\u001b[0m\u001b[0m_url\u001b[0m\u001b[1;33m,\u001b[0m \u001b[0mpath\u001b[0m\u001b[1;33m)\u001b[0m\u001b[1;33m\u001b[0m\u001b[1;33m\u001b[0m\u001b[0m\n\u001b[1;32m--> 374\u001b[1;33m         \u001b[1;32mreturn\u001b[0m \u001b[0mself\u001b[0m\u001b[1;33m.\u001b[0m\u001b[0m_request\u001b[0m\u001b[1;33m(\u001b[0m\u001b[0mcommand_info\u001b[0m\u001b[1;33m[\u001b[0m\u001b[1;36m0\u001b[0m\u001b[1;33m]\u001b[0m\u001b[1;33m,\u001b[0m \u001b[0murl\u001b[0m\u001b[1;33m,\u001b[0m \u001b[0mbody\u001b[0m\u001b[1;33m=\u001b[0m\u001b[0mdata\u001b[0m\u001b[1;33m)\u001b[0m\u001b[1;33m\u001b[0m\u001b[1;33m\u001b[0m\u001b[0m\n\u001b[0m\u001b[0;32m    375\u001b[0m \u001b[1;33m\u001b[0m\u001b[0m\n\u001b[0;32m    376\u001b[0m     \u001b[1;32mdef\u001b[0m \u001b[0m_request\u001b[0m\u001b[1;33m(\u001b[0m\u001b[0mself\u001b[0m\u001b[1;33m,\u001b[0m \u001b[0mmethod\u001b[0m\u001b[1;33m,\u001b[0m \u001b[0murl\u001b[0m\u001b[1;33m,\u001b[0m \u001b[0mbody\u001b[0m\u001b[1;33m=\u001b[0m\u001b[1;32mNone\u001b[0m\u001b[1;33m)\u001b[0m\u001b[1;33m:\u001b[0m\u001b[1;33m\u001b[0m\u001b[1;33m\u001b[0m\u001b[0m\n",
      "\u001b[1;32mC:\\ProgramData\\Anaconda3\\lib\\site-packages\\selenium\\webdriver\\remote\\remote_connection.py\u001b[0m in \u001b[0;36m_request\u001b[1;34m(self, method, url, body)\u001b[0m\n\u001b[0;32m    395\u001b[0m \u001b[1;33m\u001b[0m\u001b[0m\n\u001b[0;32m    396\u001b[0m         \u001b[1;32mif\u001b[0m \u001b[0mself\u001b[0m\u001b[1;33m.\u001b[0m\u001b[0mkeep_alive\u001b[0m\u001b[1;33m:\u001b[0m\u001b[1;33m\u001b[0m\u001b[1;33m\u001b[0m\u001b[0m\n\u001b[1;32m--> 397\u001b[1;33m             \u001b[0mresp\u001b[0m \u001b[1;33m=\u001b[0m \u001b[0mself\u001b[0m\u001b[1;33m.\u001b[0m\u001b[0m_conn\u001b[0m\u001b[1;33m.\u001b[0m\u001b[0mrequest\u001b[0m\u001b[1;33m(\u001b[0m\u001b[0mmethod\u001b[0m\u001b[1;33m,\u001b[0m \u001b[0murl\u001b[0m\u001b[1;33m,\u001b[0m \u001b[0mbody\u001b[0m\u001b[1;33m=\u001b[0m\u001b[0mbody\u001b[0m\u001b[1;33m,\u001b[0m \u001b[0mheaders\u001b[0m\u001b[1;33m=\u001b[0m\u001b[0mheaders\u001b[0m\u001b[1;33m)\u001b[0m\u001b[1;33m\u001b[0m\u001b[1;33m\u001b[0m\u001b[0m\n\u001b[0m\u001b[0;32m    398\u001b[0m \u001b[1;33m\u001b[0m\u001b[0m\n\u001b[0;32m    399\u001b[0m             \u001b[0mstatuscode\u001b[0m \u001b[1;33m=\u001b[0m \u001b[0mresp\u001b[0m\u001b[1;33m.\u001b[0m\u001b[0mstatus\u001b[0m\u001b[1;33m\u001b[0m\u001b[1;33m\u001b[0m\u001b[0m\n",
      "\u001b[1;32mC:\\ProgramData\\Anaconda3\\lib\\site-packages\\urllib3\\request.py\u001b[0m in \u001b[0;36mrequest\u001b[1;34m(self, method, url, fields, headers, **urlopen_kw)\u001b[0m\n\u001b[0;32m     78\u001b[0m         \u001b[1;32melse\u001b[0m\u001b[1;33m:\u001b[0m\u001b[1;33m\u001b[0m\u001b[1;33m\u001b[0m\u001b[0m\n\u001b[0;32m     79\u001b[0m             return self.request_encode_body(\n\u001b[1;32m---> 80\u001b[1;33m                 \u001b[0mmethod\u001b[0m\u001b[1;33m,\u001b[0m \u001b[0murl\u001b[0m\u001b[1;33m,\u001b[0m \u001b[0mfields\u001b[0m\u001b[1;33m=\u001b[0m\u001b[0mfields\u001b[0m\u001b[1;33m,\u001b[0m \u001b[0mheaders\u001b[0m\u001b[1;33m=\u001b[0m\u001b[0mheaders\u001b[0m\u001b[1;33m,\u001b[0m \u001b[1;33m**\u001b[0m\u001b[0murlopen_kw\u001b[0m\u001b[1;33m\u001b[0m\u001b[1;33m\u001b[0m\u001b[0m\n\u001b[0m\u001b[0;32m     81\u001b[0m             )\n\u001b[0;32m     82\u001b[0m \u001b[1;33m\u001b[0m\u001b[0m\n",
      "\u001b[1;32mC:\\ProgramData\\Anaconda3\\lib\\site-packages\\urllib3\\request.py\u001b[0m in \u001b[0;36mrequest_encode_body\u001b[1;34m(self, method, url, fields, headers, encode_multipart, multipart_boundary, **urlopen_kw)\u001b[0m\n\u001b[0;32m    169\u001b[0m         \u001b[0mextra_kw\u001b[0m\u001b[1;33m.\u001b[0m\u001b[0mupdate\u001b[0m\u001b[1;33m(\u001b[0m\u001b[0murlopen_kw\u001b[0m\u001b[1;33m)\u001b[0m\u001b[1;33m\u001b[0m\u001b[1;33m\u001b[0m\u001b[0m\n\u001b[0;32m    170\u001b[0m \u001b[1;33m\u001b[0m\u001b[0m\n\u001b[1;32m--> 171\u001b[1;33m         \u001b[1;32mreturn\u001b[0m \u001b[0mself\u001b[0m\u001b[1;33m.\u001b[0m\u001b[0murlopen\u001b[0m\u001b[1;33m(\u001b[0m\u001b[0mmethod\u001b[0m\u001b[1;33m,\u001b[0m \u001b[0murl\u001b[0m\u001b[1;33m,\u001b[0m \u001b[1;33m**\u001b[0m\u001b[0mextra_kw\u001b[0m\u001b[1;33m)\u001b[0m\u001b[1;33m\u001b[0m\u001b[1;33m\u001b[0m\u001b[0m\n\u001b[0m",
      "\u001b[1;32mC:\\ProgramData\\Anaconda3\\lib\\site-packages\\urllib3\\poolmanager.py\u001b[0m in \u001b[0;36murlopen\u001b[1;34m(self, method, url, redirect, **kw)\u001b[0m\n\u001b[0;32m    328\u001b[0m             \u001b[0mresponse\u001b[0m \u001b[1;33m=\u001b[0m \u001b[0mconn\u001b[0m\u001b[1;33m.\u001b[0m\u001b[0murlopen\u001b[0m\u001b[1;33m(\u001b[0m\u001b[0mmethod\u001b[0m\u001b[1;33m,\u001b[0m \u001b[0murl\u001b[0m\u001b[1;33m,\u001b[0m \u001b[1;33m**\u001b[0m\u001b[0mkw\u001b[0m\u001b[1;33m)\u001b[0m\u001b[1;33m\u001b[0m\u001b[1;33m\u001b[0m\u001b[0m\n\u001b[0;32m    329\u001b[0m         \u001b[1;32melse\u001b[0m\u001b[1;33m:\u001b[0m\u001b[1;33m\u001b[0m\u001b[1;33m\u001b[0m\u001b[0m\n\u001b[1;32m--> 330\u001b[1;33m             \u001b[0mresponse\u001b[0m \u001b[1;33m=\u001b[0m \u001b[0mconn\u001b[0m\u001b[1;33m.\u001b[0m\u001b[0murlopen\u001b[0m\u001b[1;33m(\u001b[0m\u001b[0mmethod\u001b[0m\u001b[1;33m,\u001b[0m \u001b[0mu\u001b[0m\u001b[1;33m.\u001b[0m\u001b[0mrequest_uri\u001b[0m\u001b[1;33m,\u001b[0m \u001b[1;33m**\u001b[0m\u001b[0mkw\u001b[0m\u001b[1;33m)\u001b[0m\u001b[1;33m\u001b[0m\u001b[1;33m\u001b[0m\u001b[0m\n\u001b[0m\u001b[0;32m    331\u001b[0m \u001b[1;33m\u001b[0m\u001b[0m\n\u001b[0;32m    332\u001b[0m         \u001b[0mredirect_location\u001b[0m \u001b[1;33m=\u001b[0m \u001b[0mredirect\u001b[0m \u001b[1;32mand\u001b[0m \u001b[0mresponse\u001b[0m\u001b[1;33m.\u001b[0m\u001b[0mget_redirect_location\u001b[0m\u001b[1;33m(\u001b[0m\u001b[1;33m)\u001b[0m\u001b[1;33m\u001b[0m\u001b[1;33m\u001b[0m\u001b[0m\n",
      "\u001b[1;32mC:\\ProgramData\\Anaconda3\\lib\\site-packages\\urllib3\\connectionpool.py\u001b[0m in \u001b[0;36murlopen\u001b[1;34m(self, method, url, body, headers, retries, redirect, assert_same_host, timeout, pool_timeout, release_conn, chunked, body_pos, **response_kw)\u001b[0m\n\u001b[0;32m    670\u001b[0m                 \u001b[0mbody\u001b[0m\u001b[1;33m=\u001b[0m\u001b[0mbody\u001b[0m\u001b[1;33m,\u001b[0m\u001b[1;33m\u001b[0m\u001b[1;33m\u001b[0m\u001b[0m\n\u001b[0;32m    671\u001b[0m                 \u001b[0mheaders\u001b[0m\u001b[1;33m=\u001b[0m\u001b[0mheaders\u001b[0m\u001b[1;33m,\u001b[0m\u001b[1;33m\u001b[0m\u001b[1;33m\u001b[0m\u001b[0m\n\u001b[1;32m--> 672\u001b[1;33m                 \u001b[0mchunked\u001b[0m\u001b[1;33m=\u001b[0m\u001b[0mchunked\u001b[0m\u001b[1;33m,\u001b[0m\u001b[1;33m\u001b[0m\u001b[1;33m\u001b[0m\u001b[0m\n\u001b[0m\u001b[0;32m    673\u001b[0m             )\n\u001b[0;32m    674\u001b[0m \u001b[1;33m\u001b[0m\u001b[0m\n",
      "\u001b[1;32mC:\\ProgramData\\Anaconda3\\lib\\site-packages\\urllib3\\connectionpool.py\u001b[0m in \u001b[0;36m_make_request\u001b[1;34m(self, conn, method, url, timeout, chunked, **httplib_request_kw)\u001b[0m\n\u001b[0;32m    419\u001b[0m                     \u001b[1;31m# Python 3 (including for exceptions like SystemExit).\u001b[0m\u001b[1;33m\u001b[0m\u001b[1;33m\u001b[0m\u001b[1;33m\u001b[0m\u001b[0m\n\u001b[0;32m    420\u001b[0m                     \u001b[1;31m# Otherwise it looks like a bug in the code.\u001b[0m\u001b[1;33m\u001b[0m\u001b[1;33m\u001b[0m\u001b[1;33m\u001b[0m\u001b[0m\n\u001b[1;32m--> 421\u001b[1;33m                     \u001b[0msix\u001b[0m\u001b[1;33m.\u001b[0m\u001b[0mraise_from\u001b[0m\u001b[1;33m(\u001b[0m\u001b[0me\u001b[0m\u001b[1;33m,\u001b[0m \u001b[1;32mNone\u001b[0m\u001b[1;33m)\u001b[0m\u001b[1;33m\u001b[0m\u001b[1;33m\u001b[0m\u001b[0m\n\u001b[0m\u001b[0;32m    422\u001b[0m         \u001b[1;32mexcept\u001b[0m \u001b[1;33m(\u001b[0m\u001b[0mSocketTimeout\u001b[0m\u001b[1;33m,\u001b[0m \u001b[0mBaseSSLError\u001b[0m\u001b[1;33m,\u001b[0m \u001b[0mSocketError\u001b[0m\u001b[1;33m)\u001b[0m \u001b[1;32mas\u001b[0m \u001b[0me\u001b[0m\u001b[1;33m:\u001b[0m\u001b[1;33m\u001b[0m\u001b[1;33m\u001b[0m\u001b[0m\n\u001b[0;32m    423\u001b[0m             \u001b[0mself\u001b[0m\u001b[1;33m.\u001b[0m\u001b[0m_raise_timeout\u001b[0m\u001b[1;33m(\u001b[0m\u001b[0merr\u001b[0m\u001b[1;33m=\u001b[0m\u001b[0me\u001b[0m\u001b[1;33m,\u001b[0m \u001b[0murl\u001b[0m\u001b[1;33m=\u001b[0m\u001b[0murl\u001b[0m\u001b[1;33m,\u001b[0m \u001b[0mtimeout_value\u001b[0m\u001b[1;33m=\u001b[0m\u001b[0mread_timeout\u001b[0m\u001b[1;33m)\u001b[0m\u001b[1;33m\u001b[0m\u001b[1;33m\u001b[0m\u001b[0m\n",
      "\u001b[1;32mC:\\ProgramData\\Anaconda3\\lib\\site-packages\\urllib3\\packages\\six.py\u001b[0m in \u001b[0;36mraise_from\u001b[1;34m(value, from_value)\u001b[0m\n",
      "\u001b[1;32mC:\\ProgramData\\Anaconda3\\lib\\site-packages\\urllib3\\connectionpool.py\u001b[0m in \u001b[0;36m_make_request\u001b[1;34m(self, conn, method, url, timeout, chunked, **httplib_request_kw)\u001b[0m\n\u001b[0;32m    414\u001b[0m                 \u001b[1;31m# Python 3\u001b[0m\u001b[1;33m\u001b[0m\u001b[1;33m\u001b[0m\u001b[1;33m\u001b[0m\u001b[0m\n\u001b[0;32m    415\u001b[0m                 \u001b[1;32mtry\u001b[0m\u001b[1;33m:\u001b[0m\u001b[1;33m\u001b[0m\u001b[1;33m\u001b[0m\u001b[0m\n\u001b[1;32m--> 416\u001b[1;33m                     \u001b[0mhttplib_response\u001b[0m \u001b[1;33m=\u001b[0m \u001b[0mconn\u001b[0m\u001b[1;33m.\u001b[0m\u001b[0mgetresponse\u001b[0m\u001b[1;33m(\u001b[0m\u001b[1;33m)\u001b[0m\u001b[1;33m\u001b[0m\u001b[1;33m\u001b[0m\u001b[0m\n\u001b[0m\u001b[0;32m    417\u001b[0m                 \u001b[1;32mexcept\u001b[0m \u001b[0mBaseException\u001b[0m \u001b[1;32mas\u001b[0m \u001b[0me\u001b[0m\u001b[1;33m:\u001b[0m\u001b[1;33m\u001b[0m\u001b[1;33m\u001b[0m\u001b[0m\n\u001b[0;32m    418\u001b[0m                     \u001b[1;31m# Remove the TypeError from the exception chain in\u001b[0m\u001b[1;33m\u001b[0m\u001b[1;33m\u001b[0m\u001b[1;33m\u001b[0m\u001b[0m\n",
      "\u001b[1;32mC:\\ProgramData\\Anaconda3\\lib\\http\\client.py\u001b[0m in \u001b[0;36mgetresponse\u001b[1;34m(self)\u001b[0m\n\u001b[0;32m   1342\u001b[0m         \u001b[1;32mtry\u001b[0m\u001b[1;33m:\u001b[0m\u001b[1;33m\u001b[0m\u001b[1;33m\u001b[0m\u001b[0m\n\u001b[0;32m   1343\u001b[0m             \u001b[1;32mtry\u001b[0m\u001b[1;33m:\u001b[0m\u001b[1;33m\u001b[0m\u001b[1;33m\u001b[0m\u001b[0m\n\u001b[1;32m-> 1344\u001b[1;33m                 \u001b[0mresponse\u001b[0m\u001b[1;33m.\u001b[0m\u001b[0mbegin\u001b[0m\u001b[1;33m(\u001b[0m\u001b[1;33m)\u001b[0m\u001b[1;33m\u001b[0m\u001b[1;33m\u001b[0m\u001b[0m\n\u001b[0m\u001b[0;32m   1345\u001b[0m             \u001b[1;32mexcept\u001b[0m \u001b[0mConnectionError\u001b[0m\u001b[1;33m:\u001b[0m\u001b[1;33m\u001b[0m\u001b[1;33m\u001b[0m\u001b[0m\n\u001b[0;32m   1346\u001b[0m                 \u001b[0mself\u001b[0m\u001b[1;33m.\u001b[0m\u001b[0mclose\u001b[0m\u001b[1;33m(\u001b[0m\u001b[1;33m)\u001b[0m\u001b[1;33m\u001b[0m\u001b[1;33m\u001b[0m\u001b[0m\n",
      "\u001b[1;32mC:\\ProgramData\\Anaconda3\\lib\\http\\client.py\u001b[0m in \u001b[0;36mbegin\u001b[1;34m(self)\u001b[0m\n\u001b[0;32m    304\u001b[0m         \u001b[1;31m# read until we get a non-100 response\u001b[0m\u001b[1;33m\u001b[0m\u001b[1;33m\u001b[0m\u001b[1;33m\u001b[0m\u001b[0m\n\u001b[0;32m    305\u001b[0m         \u001b[1;32mwhile\u001b[0m \u001b[1;32mTrue\u001b[0m\u001b[1;33m:\u001b[0m\u001b[1;33m\u001b[0m\u001b[1;33m\u001b[0m\u001b[0m\n\u001b[1;32m--> 306\u001b[1;33m             \u001b[0mversion\u001b[0m\u001b[1;33m,\u001b[0m \u001b[0mstatus\u001b[0m\u001b[1;33m,\u001b[0m \u001b[0mreason\u001b[0m \u001b[1;33m=\u001b[0m \u001b[0mself\u001b[0m\u001b[1;33m.\u001b[0m\u001b[0m_read_status\u001b[0m\u001b[1;33m(\u001b[0m\u001b[1;33m)\u001b[0m\u001b[1;33m\u001b[0m\u001b[1;33m\u001b[0m\u001b[0m\n\u001b[0m\u001b[0;32m    307\u001b[0m             \u001b[1;32mif\u001b[0m \u001b[0mstatus\u001b[0m \u001b[1;33m!=\u001b[0m \u001b[0mCONTINUE\u001b[0m\u001b[1;33m:\u001b[0m\u001b[1;33m\u001b[0m\u001b[1;33m\u001b[0m\u001b[0m\n\u001b[0;32m    308\u001b[0m                 \u001b[1;32mbreak\u001b[0m\u001b[1;33m\u001b[0m\u001b[1;33m\u001b[0m\u001b[0m\n",
      "\u001b[1;32mC:\\ProgramData\\Anaconda3\\lib\\http\\client.py\u001b[0m in \u001b[0;36m_read_status\u001b[1;34m(self)\u001b[0m\n\u001b[0;32m    265\u001b[0m \u001b[1;33m\u001b[0m\u001b[0m\n\u001b[0;32m    266\u001b[0m     \u001b[1;32mdef\u001b[0m \u001b[0m_read_status\u001b[0m\u001b[1;33m(\u001b[0m\u001b[0mself\u001b[0m\u001b[1;33m)\u001b[0m\u001b[1;33m:\u001b[0m\u001b[1;33m\u001b[0m\u001b[1;33m\u001b[0m\u001b[0m\n\u001b[1;32m--> 267\u001b[1;33m         \u001b[0mline\u001b[0m \u001b[1;33m=\u001b[0m \u001b[0mstr\u001b[0m\u001b[1;33m(\u001b[0m\u001b[0mself\u001b[0m\u001b[1;33m.\u001b[0m\u001b[0mfp\u001b[0m\u001b[1;33m.\u001b[0m\u001b[0mreadline\u001b[0m\u001b[1;33m(\u001b[0m\u001b[0m_MAXLINE\u001b[0m \u001b[1;33m+\u001b[0m \u001b[1;36m1\u001b[0m\u001b[1;33m)\u001b[0m\u001b[1;33m,\u001b[0m \u001b[1;34m\"iso-8859-1\"\u001b[0m\u001b[1;33m)\u001b[0m\u001b[1;33m\u001b[0m\u001b[1;33m\u001b[0m\u001b[0m\n\u001b[0m\u001b[0;32m    268\u001b[0m         \u001b[1;32mif\u001b[0m \u001b[0mlen\u001b[0m\u001b[1;33m(\u001b[0m\u001b[0mline\u001b[0m\u001b[1;33m)\u001b[0m \u001b[1;33m>\u001b[0m \u001b[0m_MAXLINE\u001b[0m\u001b[1;33m:\u001b[0m\u001b[1;33m\u001b[0m\u001b[1;33m\u001b[0m\u001b[0m\n\u001b[0;32m    269\u001b[0m             \u001b[1;32mraise\u001b[0m \u001b[0mLineTooLong\u001b[0m\u001b[1;33m(\u001b[0m\u001b[1;34m\"status line\"\u001b[0m\u001b[1;33m)\u001b[0m\u001b[1;33m\u001b[0m\u001b[1;33m\u001b[0m\u001b[0m\n",
      "\u001b[1;32mC:\\ProgramData\\Anaconda3\\lib\\socket.py\u001b[0m in \u001b[0;36mreadinto\u001b[1;34m(self, b)\u001b[0m\n\u001b[0;32m    587\u001b[0m         \u001b[1;32mwhile\u001b[0m \u001b[1;32mTrue\u001b[0m\u001b[1;33m:\u001b[0m\u001b[1;33m\u001b[0m\u001b[1;33m\u001b[0m\u001b[0m\n\u001b[0;32m    588\u001b[0m             \u001b[1;32mtry\u001b[0m\u001b[1;33m:\u001b[0m\u001b[1;33m\u001b[0m\u001b[1;33m\u001b[0m\u001b[0m\n\u001b[1;32m--> 589\u001b[1;33m                 \u001b[1;32mreturn\u001b[0m \u001b[0mself\u001b[0m\u001b[1;33m.\u001b[0m\u001b[0m_sock\u001b[0m\u001b[1;33m.\u001b[0m\u001b[0mrecv_into\u001b[0m\u001b[1;33m(\u001b[0m\u001b[0mb\u001b[0m\u001b[1;33m)\u001b[0m\u001b[1;33m\u001b[0m\u001b[1;33m\u001b[0m\u001b[0m\n\u001b[0m\u001b[0;32m    590\u001b[0m             \u001b[1;32mexcept\u001b[0m \u001b[0mtimeout\u001b[0m\u001b[1;33m:\u001b[0m\u001b[1;33m\u001b[0m\u001b[1;33m\u001b[0m\u001b[0m\n\u001b[0;32m    591\u001b[0m                 \u001b[0mself\u001b[0m\u001b[1;33m.\u001b[0m\u001b[0m_timeout_occurred\u001b[0m \u001b[1;33m=\u001b[0m \u001b[1;32mTrue\u001b[0m\u001b[1;33m\u001b[0m\u001b[1;33m\u001b[0m\u001b[0m\n",
      "\u001b[1;31mKeyboardInterrupt\u001b[0m: "
     ]
    }
   ],
   "source": [
    "# p_type={'Mus':'1', 'Liv':'3', 'Dra':'2', 'Cla':'4', 'Eve&SubCa=Eve_T':'5', 'Fam':'6'}\n",
    "p_type={'Dra':'2'}\n",
    "p_data=[]       # 공연정보 리스트\n",
    "\n",
    "for key in p_type:\n",
    "    \n",
    "    # [장르 - 전체보기 - 상품명순] 페이지 접근\n",
    "    driver.get(\"http://ticket.interpark.com/TPGoodsList.asp?Ca=\"+key+\"&Sort=4\")\n",
    "    time.sleep(0.5)\n",
    "    \n",
    "    # 각 공연의 상세페이지 주소 p_link에 가져오기\n",
    "    p_link=get_link()\n",
    "    \n",
    "    # p_link의 주소로 상세페이지에 접근하여 데이터 가져오기\n",
    "    for link in p_link:\n",
    "        \n",
    "        driver.get(link)\n",
    "        time.sleep(0.5)\n",
    "            \n",
    "        # 상세페이지에서 얻은 공연정보 데이터를 p_data에 추가하기\n",
    "        p_data.append(get_data(p_type[key]))\n",
    "        "
   ]
  },
  {
   "cell_type": "code",
   "execution_count": 162,
   "metadata": {},
   "outputs": [
    {
     "name": "stderr",
     "output_type": "stream",
     "text": [
      "C:\\ProgramData\\Anaconda3\\lib\\site-packages\\pymysql\\cursors.py:170: Warning: (1265, \"Data truncated for column 'end_date' at row 1\")\n",
      "  result = self._query(query)\n",
      "C:\\ProgramData\\Anaconda3\\lib\\site-packages\\pymysql\\cursors.py:170: Warning: (1366, \"Incorrect integer value: '상품상세정보 확인' for column 'running_time' at row 1\")\n",
      "  result = self._query(query)\n"
     ]
    }
   ],
   "source": [
    "## MySql DB에 데이터 넣기\n",
    "\n",
    "import pymysql\n",
    "\n",
    "conn=pymysql.connect(host='localhost', user='root', password='asdf1234', db='grad_test', charset='utf8mb4')\n",
    "try:\n",
    "    with conn.cursor() as cursor:\n",
    "        sql='INSERT ignore INTO shows (type, title, venue, start_date, end_date, time, ticket_open, price, running_time, buy_ticket, poster_src, registered_time) VALUES (%s, %s, %s, %s, %s, %s, %s, %s, %s, %s, %s, %s)'\n",
    "        for r in p_data:\n",
    "            cursor.execute(sql, (r['Type'], r['Title'], r['Venue'], r['StartDate'], r['EndDate'], r['Time'], r['TicketOpen'], r['Price'], r['RunningTime'], r['BuyTicket'], r['PosterSrc'], datetime.datetime.now()))\n",
    "            conn.commit()\n",
    "finally:\n",
    "    conn.close()"
   ]
  },
  {
   "cell_type": "code",
   "execution_count": null,
   "metadata": {},
   "outputs": [],
   "source": []
  }
 ],
 "metadata": {
  "kernelspec": {
   "display_name": "Python 3",
   "language": "python",
   "name": "python3"
  },
  "language_info": {
   "codemirror_mode": {
    "name": "ipython",
    "version": 3
   },
   "file_extension": ".py",
   "mimetype": "text/x-python",
   "name": "python",
   "nbconvert_exporter": "python",
   "pygments_lexer": "ipython3",
   "version": "3.7.6"
  }
 },
 "nbformat": 4,
 "nbformat_minor": 4
}
