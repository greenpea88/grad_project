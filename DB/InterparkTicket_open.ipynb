{
 "cells": [
  {
   "cell_type": "markdown",
   "metadata": {},
   "source": [
    "## 인터파크티켓 크롤링\n",
    "#### 공연 개별 상세페이지에서 정보 가져오기"
   ]
  },
  {
   "cell_type": "code",
   "execution_count": null,
   "metadata": {},
   "outputs": [],
   "source": [
    "from selenium import webdriver\n",
    "import datetime\n",
    "import time\n",
    "\n",
    "path=\"C:/Users/YYJ/Desktop/Programming/Python/Crawling/chromedriver.exe\"\n",
    "driver=webdriver.Chrome(path)"
   ]
  },
  {
   "cell_type": "code",
   "execution_count": null,
   "metadata": {
    "scrolled": true
   },
   "outputs": [],
   "source": [
    "import re\n",
    "\n",
    "driver.get(\"http://ticket.interpark.com/webzine/paper/TPNoticeList.asp\")\n",
    "driver.switch_to.frame('iFrmNotice')\n",
    "driver.find_element_by_class_name('array').find_elements_by_tag_name('a')[1].click()\n",
    "\n",
    "link=[]\n",
    "page=driver.find_element_by_class_name('total').find_element_by_tag_name('strong').text\n",
    "\n",
    "for pg in range(0, int(page)) :\n",
    "    for tr in driver.find_element_by_tag_name('tbody').find_elements_by_tag_name('tr') :\n",
    "        link.append(tr.find_element_by_class_name('subject').find_element_by_tag_name('a').get_attribute('href'))\n",
    "    if pg!=int(page)-1:\n",
    "        driver.find_element_by_class_name('no').find_element_by_tag_name('a').click()\n",
    "\n",
    "open_info=[]\n",
    "    \n",
    "for l in link :\n",
    "    open_data={'Title':'', 'DateTime':''}\n",
    "    driver.get(l)\n",
    "    d1=driver.find_element_by_class_name('detail_top').find_element_by_class_name('open').text\n",
    "    d=re.findall(\"\\d+\", d1)\n",
    "    print (d)\n",
    "    if d1.split(' ', 4)[3] == \"오전\":\n",
    "        open_data['DateTime']=datetime.datetime(int(d[0]), int(d[1]), int(d[2]), int(d[3]))\n",
    "    else :\n",
    "        open_data['DateTime']=datetime.datetime(int(d[0]), int(d[1]), int(d[2]), int(d[3])+12)\n",
    "    try:\n",
    "        open_data['Title']=driver.find_element_by_class_name('comment').find_element_by_tag_name('strong').text\n",
    "    except NoSuchElementException:\n",
    "        open_data['Title']=driver.find_element_by_class_name('comment').find_element_by_tag_name('p').text\n",
    "    open_info.append(open_data)\n",
    "    \n",
    "print(open_info)\n"
   ]
  },
  {
   "cell_type": "code",
   "execution_count": null,
   "metadata": {},
   "outputs": [],
   "source": [
    "## MySql DB에 데이터 넣기\n",
    "\n",
    "import pymysql\n",
    "\n",
    "conn=pymysql.connect(host='localhost', user='root', password='asdf1234', db='grad_test', charset='utf8mb4')\n",
    "try:\n",
    "    with conn.cursor() as cursor:\n",
    "        sql_select_show_id='SELECT id FROM shows WHERE title=%s'\n",
    "        sql_update_ticketopen='UPDATE shows SET ticket_open=%s, registered_time=%s WHERE id=%s'\n",
    "        sql_new_show_ticketopen='INSERT ignore INTO shows (title, ticket_open, registered_time) VALUES (%s, %s, %s)'\n",
    "        \n",
    "        for r in open_info:\n",
    "            cursor.execute(sql_select_show_id, r['Title'])\n",
    "            show_id=cursor.fetchone()\n",
    "            if show_id==None :\n",
    "                # 공연 제목이 다르게 입력되어 있어 찾지 못하거나 기존에 등록되어 있는 공연이 아닐 경우 수기로 입력해주어야 할 듯\n",
    "                print (r['Title'])\n",
    "#                 cursor.execute(sql_new_show_ticketopen, (r['Title'], r['DateTime'], datetime.datetime.now()))\n",
    "            else :\n",
    "                cursor.execute(sql_update_ticketopen, (r['DateTime'], datetime.datetime.now(), show_id))\n",
    "                conn.commit()\n",
    "            \n",
    "finally:\n",
    "    conn.close()"
   ]
  },
  {
   "cell_type": "code",
   "execution_count": null,
   "metadata": {},
   "outputs": [],
   "source": []
  }
 ],
 "metadata": {
  "kernelspec": {
   "display_name": "Python 3",
   "language": "python",
   "name": "python3"
  },
  "language_info": {
   "codemirror_mode": {
    "name": "ipython",
    "version": 3
   },
   "file_extension": ".py",
   "mimetype": "text/x-python",
   "name": "python",
   "nbconvert_exporter": "python",
   "pygments_lexer": "ipython3",
   "version": "3.7.6"
  }
 },
 "nbformat": 4,
 "nbformat_minor": 4
}
