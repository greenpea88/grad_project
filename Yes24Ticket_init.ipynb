{
 "cells": [
  {
   "cell_type": "markdown",
   "metadata": {},
   "source": [
    "## 예스24티켓 크롤링\n",
    "#### 공연 개별 상세페이지에서 정보 가져오기"
   ]
  },
  {
   "cell_type": "code",
   "execution_count": null,
   "metadata": {},
   "outputs": [],
   "source": [
    "from selenium import webdriver\n",
    "import time\n",
    "\n",
    "path=\"C:/Users/YYJ/Desktop/myPython/chromedriver.exe\"\n",
    "driver=webdriver.Chrome(path)"
   ]
  },
  {
   "cell_type": "code",
   "execution_count": null,
   "metadata": {},
   "outputs": [],
   "source": [
    "def get_data(ptype):\n",
    "    \n",
    "    p_keys=['Type', 'Title', 'Subtitle', 'Venue', 'open_Date', 'end_Date', 'Performer']\n",
    "    subtitle=venue=o_date=e_date=''\n",
    "    performer=[]\n",
    "    \n",
    "    # Title\n",
    "    title=driver.find_element_by_class_name('rn-big-title').text\n",
    "    \n",
    "    # Date\n",
    "    o_date=driver.find_element_by_class_name('ps-date').text.split(' ', 2)[0]\n",
    "    e_date=driver.find_element_by_class_name('ps-date').text.split(' ', 2)[2]\n",
    "    \n",
    "    # Venue\n",
    "    try:\n",
    "        venue=driver.find_element_by_class_name('ps-location').text\n",
    "    except:\n",
    "        venue=driver.find_element_by_class_name('ps-location2').text\n",
    "    \n",
    "    # Performer\n",
    "    for perf in driver.find_elements_by_class_name('rn-product-peole'):\n",
    "        performer.append(perf.text)\n",
    "        \n",
    "    p_value=[ptype, title, subtitle, venue, o_date, e_date, performer]\n",
    "    data=dict(zip(p_keys, p_value))\n",
    "    print(data)\n",
    "    \n",
    "    return data"
   ]
  },
  {
   "cell_type": "code",
   "execution_count": null,
   "metadata": {},
   "outputs": [],
   "source": [
    "def get_link():\n",
    "    \n",
    "    link=[]\n",
    "    \n",
    "    # 무한 스크롤\n",
    "    last_height=driver.execute_script(\"return document.body.scrollHeight;\")\n",
    "    while True:\n",
    "        # Scroll down to bottom\n",
    "        driver.execute_script(\"window.scrollTo(0, document.body.scrollHeight);\")\n",
    "        # Wait to load page\n",
    "        time.sleep(0.5)\n",
    "        # Calculate new scroll height and compare with last scroll height\n",
    "        new_height=driver.execute_script(\"return document.body.scrollHeight\")\n",
    "        if new_height==last_height:\n",
    "            break\n",
    "        last_height=new_height\n",
    "    \n",
    "    # 상세페이지로 접근하는 웹요소를 찾아 url에 입력할 번호만 파싱\n",
    "    for row in driver.find_elements_by_class_name('ms-list-imgs'):\n",
    "        for col in row.find_elements_by_tag_name('a'):\n",
    "            s=col.get_attribute('onclick')\n",
    "            s1=s.split('(')[1]\n",
    "            s2=s1.split(')')[0]\n",
    "            link.append(s2)\n",
    "    \n",
    "    return link"
   ]
  },
  {
   "cell_type": "code",
   "execution_count": null,
   "metadata": {
    "scrolled": false
   },
   "outputs": [],
   "source": [
    "p_type={'15456':'콘서트', '15457':'뮤지컬', '15458':'연극', '15459':'클래식', '15460':'전시'}\n",
    "p_data=[]       # 공연정보 리스트\n",
    "\n",
    "for key in p_type:\n",
    "    \n",
    "    # [장르 - 전체보기 - 신상품순] 페이지 접근\n",
    "    driver.get(\"http://ticket.yes24.com/New/Genre/GenreList.aspx?genretype=1&genre=\"+key)\n",
    "    time.sleep(0.5)\n",
    "    driver.find_element_by_xpath('/html/body/section/p[1]/span[2]/a').click()\n",
    "    \n",
    "    # 각 공연의 상세페이지로 접근하기 위해 클릭할 웹요소 p_link에 가져오기\n",
    "    p_link=get_link()\n",
    "    \n",
    "    # p_link의 주소로 상세페이지에 접근하여 데이터 가져오기\n",
    "    for link in p_link:\n",
    "        \n",
    "        driver.get('http://ticket.yes24.com/Perf/'+link)\n",
    "        time.sleep(0.5)\n",
    "            \n",
    "        # 상세페이지에서 얻은 공연정보 데이터를 p_data에 추가하기\n",
    "        p_data.append(get_data(p_type[key]))\n",
    "        "
   ]
  },
  {
   "cell_type": "code",
   "execution_count": null,
   "metadata": {},
   "outputs": [],
   "source": []
  }
 ],
 "metadata": {
  "kernelspec": {
   "display_name": "Python 3",
   "language": "python",
   "name": "python3"
  },
  "language_info": {
   "codemirror_mode": {
    "name": "ipython",
    "version": 3
   },
   "file_extension": ".py",
   "mimetype": "text/x-python",
   "name": "python",
   "nbconvert_exporter": "python",
   "pygments_lexer": "ipython3",
   "version": "3.7.6"
  }
 },
 "nbformat": 4,
 "nbformat_minor": 4
}
