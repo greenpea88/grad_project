{
 "cells": [
  {
   "cell_type": "markdown",
   "metadata": {},
   "source": [
    "## 예스24티켓 크롤링\n",
    "#### 공연 개별 상세페이지에서 정보 가져오기"
   ]
  },
  {
   "cell_type": "code",
   "execution_count": 1,
   "metadata": {},
   "outputs": [],
   "source": [
    "from selenium import webdriver\n",
    "import time\n",
    "\n",
    "path=\"C:/Users/YYJ/Desktop/myPython/chromedriver.exe\"\n",
    "driver=webdriver.Chrome(path)"
   ]
  },
  {
   "cell_type": "code",
   "execution_count": 2,
   "metadata": {},
   "outputs": [],
   "source": [
    "def get_data(ptype):\n",
    "    \n",
    "    p_keys=['Type', 'Title', 'Subtitle', 'Venue', 'open_Date', 'end_Date', 'Performer']\n",
    "    subtitle=venue=o_date=e_date=''\n",
    "    performer=[]\n",
    "    \n",
    "    # Title\n",
    "    title=driver.find_element_by_class_name('rn-big-title').text\n",
    "    \n",
    "    # Date\n",
    "    o_date=driver.find_element_by_class_name('ps-date').text.split(' ', 2)[0]\n",
    "    e_date=driver.find_element_by_class_name('ps-date').text.split(' ', 2)[2]\n",
    "    \n",
    "    # Venue\n",
    "    venue=driver.find_element_by_class_name('ps-location').text\n",
    "    \n",
    "    # Performer\n",
    "    performer=driver.find_elements_by_class_name('rn-product-peole').text\n",
    "    \n",
    "    \n",
    "#     # elem=driver.find_element_by_class_name('info_Lst')\n",
    "#     elem=driver.find_element_by_id('TabA')\n",
    "#     for dl in elem.find_elements_by_tag_name('dl'):\n",
    "#         info_type=dl.find_element_by_tag_name('dt')\n",
    "#         info_data=dl.find_element_by_tag_name('dd')\n",
    "        \n",
    "#     # Subtitle, Venue, Date, Performer\n",
    "#         if info_type.text=='장소':\n",
    "#             venue=info_data.text\n",
    "#         elif info_type.text=='기간':\n",
    "#             if '~' in info_data.text:\n",
    "#                 o_date=info_data.text.split(' ', 3)[0]       # split('기준', '횟수')\n",
    "#                 e_date=info_data.text.split(' ', 3)[2]\n",
    "#             else:\n",
    "#                 o_date=e_date=info_data.text.split(' ', 2)[0]\n",
    "#         elif info_type.text=='부제':\n",
    "#             subtitle=info_data.text\n",
    "#         elif info_type.text=='출연':\n",
    "#             #driver.find_element_by_id('hTabC')\n",
    "#             driver.find_element_by_id('aTabC').click()\n",
    "#             driver.switch_to.frame('ifrTabC')\n",
    "#             i_actor=driver.find_elements_by_class_name('Actor')\n",
    "#             for i in i_actor:\n",
    "#                 performer.append(i.find_element_by_tag_name('h3').text)\n",
    "#             #driver.switch_to.default_content()\n",
    "#         else:\n",
    "#             pass\n",
    "        \n",
    "    p_value=[ptype, title, subtitle, venue, o_date, e_date, performer]\n",
    "    data=dict(zip(p_keys, p_value))\n",
    "    print(data)\n",
    "    \n",
    "    return data"
   ]
  },
  {
   "cell_type": "code",
   "execution_count": 17,
   "metadata": {},
   "outputs": [],
   "source": [
    "def get_link():\n",
    "    \n",
    "    # 무한 스크롤\n",
    "    \n",
    "    last_height=driver.execute_script(\"return document.body.scrollHeight;\")\n",
    "    while True:\n",
    "        # Scroll down to bottom\n",
    "        driver.execute_script(\"window.scrollTo(0, document.body.scrollHeight);\")\n",
    "        # Wait to load page\n",
    "        time.sleep(0.5)\n",
    "        # Calculate new scroll height and compare with last scroll height\n",
    "        new_height=driver.execute_script(\"return document.body.scrollHeight\")\n",
    "        if new_height==last_height:\n",
    "            break\n",
    "        last_height=new_height\n",
    "    \n",
    "    # 주소 가져오기\n",
    "    \n",
    "    for row in driver.find_elements_by_class_name('ms-list-imgs'):\n",
    "        for col in row.find_elements_by_tag_name('a'):\n",
    "            p_link.append(col.get_attribute('src'))"
   ]
  },
  {
   "cell_type": "code",
   "execution_count": 18,
   "metadata": {
    "scrolled": true
   },
   "outputs": [
    {
     "ename": "NameError",
     "evalue": "name 'src' is not defined",
     "output_type": "error",
     "traceback": [
      "\u001b[1;31m---------------------------------------------------------------------------\u001b[0m",
      "\u001b[1;31mNameError\u001b[0m                                 Traceback (most recent call last)",
      "\u001b[1;32m<ipython-input-18-d1e277c24dad>\u001b[0m in \u001b[0;36m<module>\u001b[1;34m\u001b[0m\n\u001b[0;32m     11\u001b[0m \u001b[1;33m\u001b[0m\u001b[0m\n\u001b[0;32m     12\u001b[0m     \u001b[1;31m# 각 공연의 상세페이지 주소 p_link에 가져오기\u001b[0m\u001b[1;33m\u001b[0m\u001b[1;33m\u001b[0m\u001b[1;33m\u001b[0m\u001b[0m\n\u001b[1;32m---> 13\u001b[1;33m     \u001b[0mget_link\u001b[0m\u001b[1;33m(\u001b[0m\u001b[1;33m)\u001b[0m\u001b[1;33m\u001b[0m\u001b[1;33m\u001b[0m\u001b[0m\n\u001b[0m\u001b[0;32m     14\u001b[0m \u001b[1;33m\u001b[0m\u001b[0m\n\u001b[0;32m     15\u001b[0m     \u001b[1;31m# p_link의 주소로 상세페이지에 접근하여 데이터 가져오기\u001b[0m\u001b[1;33m\u001b[0m\u001b[1;33m\u001b[0m\u001b[1;33m\u001b[0m\u001b[0m\n",
      "\u001b[1;32m<ipython-input-17-502fe9313a45>\u001b[0m in \u001b[0;36mget_link\u001b[1;34m()\u001b[0m\n\u001b[0;32m     19\u001b[0m     \u001b[1;32mfor\u001b[0m \u001b[0mrow\u001b[0m \u001b[1;32min\u001b[0m \u001b[0mdriver\u001b[0m\u001b[1;33m.\u001b[0m\u001b[0mfind_elements_by_class_name\u001b[0m\u001b[1;33m(\u001b[0m\u001b[1;34m'ms-list-imgs'\u001b[0m\u001b[1;33m)\u001b[0m\u001b[1;33m:\u001b[0m\u001b[1;33m\u001b[0m\u001b[1;33m\u001b[0m\u001b[0m\n\u001b[0;32m     20\u001b[0m         \u001b[1;32mfor\u001b[0m \u001b[0mcol\u001b[0m \u001b[1;32min\u001b[0m \u001b[0mrow\u001b[0m\u001b[1;33m.\u001b[0m\u001b[0mfind_elements_by_tag_name\u001b[0m\u001b[1;33m(\u001b[0m\u001b[1;34m'a'\u001b[0m\u001b[1;33m)\u001b[0m\u001b[1;33m:\u001b[0m\u001b[1;33m\u001b[0m\u001b[1;33m\u001b[0m\u001b[0m\n\u001b[1;32m---> 21\u001b[1;33m             \u001b[0mp_link\u001b[0m\u001b[1;33m.\u001b[0m\u001b[0mappend\u001b[0m\u001b[1;33m(\u001b[0m\u001b[0mcol\u001b[0m\u001b[1;33m.\u001b[0m\u001b[0mget_attribute\u001b[0m\u001b[1;33m(\u001b[0m\u001b[0msrc\u001b[0m\u001b[1;33m)\u001b[0m\u001b[1;33m)\u001b[0m\u001b[1;33m\u001b[0m\u001b[1;33m\u001b[0m\u001b[0m\n\u001b[0m",
      "\u001b[1;31mNameError\u001b[0m: name 'src' is not defined"
     ]
    }
   ],
   "source": [
    "p_type={'15456':'콘서트', '15457':'뮤지컬', '15458':'연극', '15459':'클래식', '15460':'전시', '999':'아동'}\n",
    "p_link=[]       # 공연 상세페이지 주소 리스트\n",
    "p_data=[]       # 공연정보 리스트\n",
    "\n",
    "for key in p_type:\n",
    "    \n",
    "    # [장르 - 전체보기 - 신상품순] 페이지 접근\n",
    "    driver.get(\"http://ticket.yes24.com/New/Genre/GenreList.aspx?genretype=1&genre=\"+key)\n",
    "    time.sleep(0.5)\n",
    "    driver.find_element_by_xpath('/html/body/section/p[1]/span[2]/a').click()\n",
    "    \n",
    "    # 각 공연의 상세페이지 주소 p_link에 가져오기\n",
    "    get_link()\n",
    "    \n",
    "    # p_link의 주소로 상세페이지에 접근하여 데이터 가져오기\n",
    "    for link in p_link:\n",
    "        \n",
    "        driver.get(link)\n",
    "        time.sleep(0.5)\n",
    "            \n",
    "        # 상세페이지에서 얻은 공연정보 데이터를 p_data에 추가하기\n",
    "        p_data.append(get_data(p_type[key]))\n",
    "        "
   ]
  },
  {
   "cell_type": "code",
   "execution_count": null,
   "metadata": {},
   "outputs": [],
   "source": []
  }
 ],
 "metadata": {
  "kernelspec": {
   "display_name": "Python 3",
   "language": "python",
   "name": "python3"
  },
  "language_info": {
   "codemirror_mode": {
    "name": "ipython",
    "version": 3
   },
   "file_extension": ".py",
   "mimetype": "text/x-python",
   "name": "python",
   "nbconvert_exporter": "python",
   "pygments_lexer": "ipython3",
   "version": "3.7.6"
  }
 },
 "nbformat": 4,
 "nbformat_minor": 4
}
