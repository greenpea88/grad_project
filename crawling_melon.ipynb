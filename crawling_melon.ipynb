{
 "cells": [
  {
   "cell_type": "markdown",
   "metadata": {},
   "source": [
    "## Selenium을 이용한 크롤링\n",
    "#### 멜론티켓\n",
    "장르별 전체보기 탭의 공연개별링크에서 정보 가져오기  "
   ]
  },
  {
   "cell_type": "code",
   "execution_count": 1,
   "metadata": {},
   "outputs": [],
   "source": [
    "from selenium import webdriver\n",
    "import time\n",
    "\n",
    "driver = webdriver.Chrome('c:/chromedriver.exe')"
   ]
  },
  {
   "cell_type": "code",
   "execution_count": 2,
   "metadata": {},
   "outputs": [],
   "source": [
    "def get_data():\n",
    "    \n",
    "    p_info={'Type':'', 'Title':'', 'Subtitle':'', 'Venue':'', 'open_Date':'', 'end_Date':'', 'Performer':''}\n",
    "    performer=[]\n",
    "    \n",
    "    # Type\n",
    "    p_info['Type']=driver.find_element_by_xpath('//*[@id=\"conts\"]/div/div[1]/div[1]/div[2]/div[2]/dl[1]/dd[3]').text\n",
    "    \n",
    "    # Title\n",
    "    p_info['Title']=driver.find_element_by_xpath('//*[@id=\"conts\"]/div/div[1]/div[1]/div[2]/p[2]').text\n",
    "    \n",
    "#     # Subtitle\n",
    "#     p_info['Subtitle']=driver.find_element_by_xpath('//*[@id=\"conts\"]/div/div[1]/div[1]/div[2]/p[2]').text\n",
    "        \n",
    "    # Venue\n",
    "    p_info['Venue']=driver.find_element_by_xpath('//*[@id=\"performanceHallBtn\"]/span[1]').text\n",
    "    \n",
    "    # Date\n",
    "    temp_date=driver.find_element_by_xpath('//*[@id=\"periodInfo\"]').text\n",
    "    if '-' in temp_date:\n",
    "        p_info['open_Date']=temp_date.split(' ', 2)[0]\n",
    "        p_info['end_Date']=temp_date.split(' ', 2)[2]\n",
    "\n",
    "    # Performer\n",
    "    li_artist=driver.find_elements_by_class_name('list_artist')\n",
    "    for i in li_artist:\n",
    "        if i.find_element_by_tag_name('li') != 'no_artist':\n",
    "            performer.append(i.find_element_by_class_name('singer').text)\n",
    "    p_info['Performer']=performer\n",
    "    \n",
    "        \n",
    "    print(p_info)\n",
    "    p_data.append(p_info)"
   ]
  },
  {
   "cell_type": "code",
   "execution_count": 3,
   "metadata": {},
   "outputs": [],
   "source": [
    "def get_link():\n",
    "    \n",
    "    temp_li=driver.find_element_by_xpath('//*[@id=\"perf_poster\"]')\n",
    "    \n",
    "    for p_block in temp_li.find_elements_by_tag_name('li'):\n",
    "        p_link.append(p_block.find_element_by_tag_name('a').get_attribute('href'))"
   ]
  },
  {
   "cell_type": "code",
   "execution_count": 4,
   "metadata": {
    "scrolled": true
   },
   "outputs": [
    {
     "name": "stdout",
     "output_type": "stream",
     "text": [
      "{'Type': '콘서트', 'Title': 'OFF＃3 Ⅹ 소각소각', 'Subtitle': '', 'Venue': '벨로주 홍대 ', 'open_Date': '2020.05.09', 'end_Date': '2020.05.09', 'Performer': ['소각소각']}\n",
      "{'Type': '콘서트', 'Title': '트롯젠틀맨 전국투어 부산', 'Subtitle': '', 'Venue': '부산 KBS홀 ', 'open_Date': '2020.05.09', 'end_Date': '2020.05.09', 'Performer': ['양지원']}\n",
      "{'Type': '콘서트', 'Title': '롤링 25주년 기념 공연：새벽공방＆와인루프', 'Subtitle': '', 'Venue': '롤링홀 ', 'open_Date': '2020.05.15', 'end_Date': '2020.05.15', 'Performer': ['새벽공방']}\n",
      "{'Type': '콘서트', 'Title': '롤링 25주년 기념 공연：열두달 단독 콘서트 ‘시작해봄’', 'Subtitle': '', 'Venue': '롤링홀 ', 'open_Date': '2020.05.03', 'end_Date': '2020.05.03', 'Performer': ['열두달 (12DAL)']}\n",
      "{'Type': '콘서트', 'Title': '［자각몽：하나 둘 셋 숨을 고르면 내가 상상한 그대로 이뤄지는 꿈속에 도착할테니］', 'Subtitle': '', 'Venue': '웨스트브릿지 with KT 5G ', 'open_Date': '2020.04.25', 'end_Date': '2020.04.25', 'Performer': ['최예근']}\n",
      "{'Type': '콘서트', 'Title': '406호 프로젝트 단독콘서트［406DAY：DRAMA］', 'Subtitle': '', 'Venue': '웨스트브릿지 with KT 5G ', 'open_Date': '2020.05.03', 'end_Date': '2020.05.03', 'Performer': ['406호 프로젝트']}\n",
      "{'Type': '콘서트', 'Title': '2020 칭따오 비어 프레젠트 파크 뮤직 페스티벌', 'Subtitle': '', 'Venue': '서울 올림픽공원 ', 'open_Date': '2020.06.20', 'end_Date': '2020.06.21', 'Performer': []}\n",
      "{'Type': '콘서트', 'Title': '2020 플레이리스트 페스티벌（2020 PLAYLIST FESTIVAL）－블라인드 티켓', 'Subtitle': '', 'Venue': 'KSPO DOME (올림픽 체조경기장) ', 'open_Date': '2020.07.05', 'end_Date': '2020.07.05', 'Performer': []}\n",
      "{'Type': '콘서트', 'Title': '[이민혁 봄 뮤직& 토크쇼]', 'Subtitle': '', 'Venue': '플레이스비브 ', 'open_Date': '2020.05.02', 'end_Date': '2020.05.02', 'Performer': ['이민혁']}\n",
      "{'Type': '콘서트', 'Title': '롤링 25주년 기념 공연：강전한＆109', 'Subtitle': '', 'Venue': '롤링홀 ', 'open_Date': '2020.04.30', 'end_Date': '2020.04.30', 'Performer': ['강전한']}\n",
      "{'Type': '콘서트', 'Title': '롤링 25주년 기념 공연：안다은 of 디에이드 단독 콘서트', 'Subtitle': '', 'Venue': '롤링홀 ', 'open_Date': '2020.04.26', 'end_Date': '2020.04.26', 'Performer': ['안다은']}\n",
      "{'Type': '콘서트', 'Title': '롤링 25주년 기념 공연：벤지 첫 단독 콘서트', 'Subtitle': '', 'Venue': '롤링홀 ', 'open_Date': '2020.04.25', 'end_Date': '2020.04.25', 'Performer': ['벤지 (비아이지)']}\n",
      "{'Type': '콘서트', 'Title': '롤링 25주년 기념 공연：그리즐리＆픽보이', 'Subtitle': '', 'Venue': '롤링홀 ', 'open_Date': '2020.04.24', 'end_Date': '2020.04.24', 'Performer': ['그리즐리 (Grizzly)']}\n",
      "{'Type': '콘서트', 'Title': '롤링 25주년 기념 공연：내귀에 도청장치＆트랜스픽션＆해리빅버튼', 'Subtitle': '', 'Venue': '롤링홀 ', 'open_Date': '2020.05.10', 'end_Date': '2020.05.10', 'Performer': ['내귀에 도청장치']}\n",
      "{'Type': '콘서트', 'Title': '롤링 25주년 기념 공연：라쿠나 단독 콘서트', 'Subtitle': '', 'Venue': '롤링홀 ', 'open_Date': '2020.05.01', 'end_Date': '2020.05.01', 'Performer': ['Lacuna (라쿠나)']}\n",
      "{'Type': '콘서트', 'Title': '롤링 25주년 기념 공연：소야 단독 콘서트', 'Subtitle': '', 'Venue': '롤링홀 ', 'open_Date': '2020.05.24', 'end_Date': '2020.05.24', 'Performer': ['소야 (SOYA)']}\n",
      "{'Type': '콘서트', 'Title': '［안예은，2020 첫 번째 팬미팅］', 'Subtitle': '', 'Venue': 'DS ART HALL ', 'open_Date': '2020.04.26', 'end_Date': '2020.04.26', 'Performer': ['안예은']}\n",
      "{'Type': '콘서트', 'Title': '［프롬의 봄 뮤직＆토크 스테이지］', 'Subtitle': '', 'Venue': 'DS ART HALL ', 'open_Date': '2020.04.26', 'end_Date': '2020.04.26', 'Performer': ['프롬']}\n",
      "{'Type': '콘서트', 'Title': '［광주］2020 THE신승훈SHOW〈미소속에 비친 그대〉', 'Subtitle': '', 'Venue': '광주 문화예술회관 대극장', 'open_Date': '2020.06.20', 'end_Date': '2020.06.21', 'Performer': ['신승훈']}\n",
      "{'Type': '콘서트', 'Title': '뷰티풀 민트 라이프 2020－공식 티켓', 'Subtitle': '', 'Venue': '올림픽공원 내 ', 'open_Date': '2020.05.16', 'end_Date': '2020.05.17', 'Performer': []}\n",
      "{'Type': '뮤지컬', 'Title': '［인천］NEW 시크릿쥬쥬 별의여신 뮤지컬 시즌2', 'Subtitle': '', 'Venue': '부평아트센터 해누리극장', 'open_Date': '2020.05.23', 'end_Date': '2020.05.24', 'Performer': []}\n",
      "{'Type': '뮤지컬', 'Title': '음악에세이 그대와 영원히', 'Subtitle': '', 'Venue': '대학로 한성아트홀 2관', 'open_Date': '2019.11.12', 'end_Date': '오픈런', 'Performer': []}\n",
      "{'Type': '뮤지컬', 'Title': '뮤지컬 〈리지（LIZZIE）〉', 'Subtitle': '', 'Venue': '드림아트센터 1관', 'open_Date': '2020.04.02', 'end_Date': '2020.06.21', 'Performer': ['나하나']}\n",
      "{'Type': '연극', 'Title': '레트로코믹극 연극 라면', 'Subtitle': '', 'Venue': '컬쳐씨어터 ', 'open_Date': '2020.04.04', 'end_Date': '2020.04.30', 'Performer': []}\n",
      "{'Type': '연극', 'Title': '연극 〈파묻힌 아이〉', 'Subtitle': '', 'Venue': '경기아트센터 소극장 ', 'open_Date': '2020.05.21', 'end_Date': '2020.05.31', 'Performer': []}\n",
      "{'Type': '뮤지컬', 'Title': '가족뮤지컬〈봄날의 곰〉', 'Subtitle': '', 'Venue': '대학로 세우아트센터 1관 ', 'open_Date': '2020.04.25', 'end_Date': '2020.08.30', 'Performer': []}\n",
      "{'Type': '연극', 'Title': '코믹연극 〈자메이카 헬스클럽〉', 'Subtitle': '', 'Venue': '내유외강씨어터 (구 익스트림씨어터 1관) ', 'open_Date': '2020.04.01', 'end_Date': '오픈런', 'Performer': []}\n",
      "{'Type': '뮤지컬', 'Title': '뮤지컬 〈올 아이즈 온 미（All Eyez on Me）〉', 'Subtitle': '', 'Venue': '대학로 유니플렉스 1관', 'open_Date': '2020.05.01', 'end_Date': '2020.05.24', 'Performer': []}\n",
      "{'Type': '뮤지컬', 'Title': '［수원］뮤지컬 〈레베카〉', 'Subtitle': '', 'Venue': '경기아트센터 대극장 ', 'open_Date': '2020.06.19', 'end_Date': '2020.06.21', 'Performer': []}\n",
      "{'Type': '뮤지컬', 'Title': '［고양］뮤지컬 〈레베카〉', 'Subtitle': '', 'Venue': '고양 아람누리 아람극장', 'open_Date': '2020.06.12', 'end_Date': '2020.06.14', 'Performer': []}\n",
      "{'Type': '뮤지컬', 'Title': '［인천］뮤지컬 〈레베카〉', 'Subtitle': '', 'Venue': '인천문화예술회관 대공연장', 'open_Date': '2020.05.15', 'end_Date': '2020.05.17', 'Performer': []}\n",
      "{'Type': '뮤지컬', 'Title': '［부산］뮤지컬 〈레베카〉', 'Subtitle': '', 'Venue': '드림씨어터 ', 'open_Date': '2020.05.29', 'end_Date': '2020.05.31', 'Performer': []}\n",
      "{'Type': '뮤지컬', 'Title': '［성남］뮤지컬 〈레베카〉', 'Subtitle': '', 'Venue': '성남아트센터 오페라하우스', 'open_Date': '2020.05.08', 'end_Date': '2020.05.10', 'Performer': []}\n",
      "{'Type': '뮤지컬', 'Title': '［광주］뮤지컬 〈레베카〉', 'Subtitle': '', 'Venue': '광주 문화예술회관 대극장', 'open_Date': '2020.05.01', 'end_Date': '2020.05.03', 'Performer': []}\n",
      "{'Type': '연극', 'Title': '코믹추리극 행오버－해피씨어터', 'Subtitle': '', 'Venue': '해피씨어터 ', 'open_Date': '2020.03.17', 'end_Date': '오픈런', 'Performer': []}\n",
      "{'Type': '연극', 'Title': '현실 코믹극 〈리얼리티〉－대학로', 'Subtitle': '', 'Venue': '윈씨어터 ', 'open_Date': '2020.02.29', 'end_Date': '2020.04.30', 'Performer': []}\n",
      "{'Type': '뮤지컬', 'Title': '국민뮤지컬 〈사랑은비를타고〉（사비타）', 'Subtitle': '', 'Venue': '예술극장 나무와물 ', 'open_Date': '2020.02.14', 'end_Date': '2020.07.26', 'Performer': []}\n",
      "{'Type': '연극', 'Title': '국가대표 코믹극 〈보잉보잉〉', 'Subtitle': '', 'Venue': '대학로 두레홀 ', 'open_Date': '2020.02.01', 'end_Date': '오픈런', 'Performer': []}\n",
      "{'Type': '뮤지컬', 'Title': '넌버벌 퍼포먼스 〈파이어맨〉－명보아트홀 가온홀', 'Subtitle': '', 'Venue': '명보아트홀 가온홀 ', 'open_Date': '2015.08.01', 'end_Date': '오픈런', 'Performer': []}\n",
      "{'Type': '연극', 'Title': '2020 라움 마티네 콘서트 〈책 읽어주는 배우〉', 'Subtitle': '', 'Venue': '소셜베뉴 라움 4F 체임버 홀 ', 'open_Date': '2020.06.09', 'end_Date': '2020.06.09', 'Performer': ['박정자']}\n",
      "{'Type': '클래식', 'Title': '어린왕자와 함께 그리는 클래식 콘서트－피아니스트 김현정 글로리아 〈Must Listen II〉', 'Subtitle': '', 'Venue': '성남아트센터 앙상블시어터', 'open_Date': '2020.06.06', 'end_Date': '2020.06.06', 'Performer': ['김현정 글로리아(HyunJung Gloria Kim)']}\n",
      "{'Type': '클래식', 'Title': '라움으로 헤쳐모여！〈세대공감〉 패키지', 'Subtitle': '', 'Venue': '소셜베뉴 라움 2F 마제스틱 볼룸 ', 'open_Date': '2020.06.24', 'end_Date': '2020.08.19', 'Performer': ['안현준']}\n",
      "{'Type': '클래식', 'Title': '라움으로 헤쳐모여！〈세대공감〉', 'Subtitle': '', 'Venue': '소셜베뉴 라움 2F 마제스틱 볼룸 ', 'open_Date': '2020.06.24', 'end_Date': '2020.08.19', 'Performer': ['안현준']}\n",
      "{'Type': '클래식', 'Title': '2020 라움 마티네 콘서트 〈살롱 드 아르떼〉', 'Subtitle': '', 'Venue': '소셜베뉴 라움 4F 체임버 홀 ', 'open_Date': '2020.05.26', 'end_Date': '2020.11.24', 'Performer': ['Steve Lee']}\n",
      "{'Type': '클래식', 'Title': '체임버시리즈Ⅰ－김다미문지영 듀오 브람스바이올린소나타 전곡', 'Subtitle': '', 'Venue': '세종문화회관 체임버홀', 'open_Date': '2020.04.28', 'end_Date': '2020.04.28', 'Performer': []}\n",
      "{'Type': '클래식', 'Title': '서울시무용단 〈동무동락〉', 'Subtitle': '', 'Venue': '세종문화회관 M씨어터', 'open_Date': '2020.10.22', 'end_Date': '2020.10.24', 'Performer': []}\n",
      "{'Type': '클래식', 'Title': '라 갤러리（La Galerie）', 'Subtitle': '', 'Venue': '세종문화회관 M씨어터', 'open_Date': '2020.11.03', 'end_Date': '2020.11.07', 'Performer': []}\n",
      "{'Type': '클래식', 'Title': '세상의 모든 사랑가', 'Subtitle': '', 'Venue': '세종문화회관 M씨어터', 'open_Date': '2020.09.05', 'end_Date': '2020.09.05', 'Performer': []}\n",
      "{'Type': '클래식', 'Title': '2020 새로고침', 'Subtitle': '', 'Venue': '세종문화회관 M씨어터', 'open_Date': '2020.10.28', 'end_Date': '2020.10.28', 'Performer': []}\n",
      "{'Type': '클래식', 'Title': '더 토핑', 'Subtitle': '', 'Venue': '세종문화회관 S씨어터', 'open_Date': '2020.12.03', 'end_Date': '2020.12.06', 'Performer': []}\n",
      "{'Type': '클래식', 'Title': '2020 금난새 ＆ 신포니아 라움 〈베토벤 심포니 시리즈：No．7〉', 'Subtitle': '', 'Venue': '소셜베뉴 라움 2F 마제스틱 볼룸 ', 'open_Date': '2020.09.22', 'end_Date': '2020.09.22', 'Performer': ['금난새']}\n"
     ]
    },
    {
     "name": "stdout",
     "output_type": "stream",
     "text": [
      "{'Type': '클래식', 'Title': '2020 첫선음악회 그들이 전하는 이야기 Ⅱ', 'Subtitle': '', 'Venue': '세종문화회관 M씨어터', 'open_Date': '2020.10.30', 'end_Date': '2020.10.30', 'Performer': []}\n",
      "{'Type': '클래식', 'Title': '제346회 정기연주회 〈송년음악회〉', 'Subtitle': '', 'Venue': '세종문화회관 M씨어터', 'open_Date': '2020.12.23', 'end_Date': '2020.12.23', 'Performer': []}\n",
      "{'Type': '클래식', 'Title': '2020 위대한 작곡가 시리즈，베토벤Ⅲ', 'Subtitle': '', 'Venue': '세종문화회관 대극장', 'open_Date': '2020.10.24', 'end_Date': '2020.10.24', 'Performer': []}\n",
      "{'Type': '클래식', 'Title': '2020 위대한 작곡가 시리즈，베토벤Ⅱ', 'Subtitle': '', 'Venue': '세종문화회관 대극장', 'open_Date': '2020.10.24', 'end_Date': '2020.10.24', 'Performer': []}\n",
      "{'Type': '클래식', 'Title': '2020 앙상블 콘서트 Ⅳ', 'Subtitle': '', 'Venue': '세종문화회관 체임버홀', 'open_Date': '2020.11.14', 'end_Date': '2020.11.14', 'Performer': []}\n",
      "{'Type': '클래식', 'Title': '2020 앙상블 콘서트 Ⅲ', 'Subtitle': '', 'Venue': '세종문화회관 체임버홀', 'open_Date': '2020.09.12', 'end_Date': '2020.09.12', 'Performer': []}\n",
      "{'Type': '클래식', 'Title': '2020 앙상블 콘서트Ⅱ', 'Subtitle': '', 'Venue': '세종문화회관 체임버홀', 'open_Date': '2020.06.13', 'end_Date': '2020.06.13', 'Performer': []}\n",
      "{'Type': '클래식', 'Title': '오페라마티네시즌2 오페라 톡톡－푸치니', 'Subtitle': '', 'Venue': '세종문화회관 체임버홀', 'open_Date': '2020.09.29', 'end_Date': '2020.09.29', 'Performer': []}\n",
      "{'Type': '클래식', 'Title': '오페라마티네시즌2－아말과 동방박사들', 'Subtitle': '', 'Venue': '세종문화회관 S씨어터', 'open_Date': '2020.12.09', 'end_Date': '2020.12.09', 'Performer': []}\n"
     ]
    },
    {
     "ename": "NoSuchElementException",
     "evalue": "Message: no such element: Unable to locate element: {\"method\":\"css selector\",\"selector\":\"a\"}\n  (Session info: chrome=81.0.4044.92)\n",
     "output_type": "error",
     "traceback": [
      "\u001b[1;31m---------------------------------------------------------------------------\u001b[0m",
      "\u001b[1;31mNoSuchElementException\u001b[0m                    Traceback (most recent call last)",
      "\u001b[1;32m<ipython-input-4-440a881d8279>\u001b[0m in \u001b[0;36m<module>\u001b[1;34m\u001b[0m\n\u001b[0;32m     15\u001b[0m \u001b[1;33m\u001b[0m\u001b[0m\n\u001b[0;32m     16\u001b[0m     \u001b[1;31m# 각 공연의 상세페이지 링크 p_link에 가져오기\u001b[0m\u001b[1;33m\u001b[0m\u001b[1;33m\u001b[0m\u001b[1;33m\u001b[0m\u001b[0m\n\u001b[1;32m---> 17\u001b[1;33m     \u001b[0mget_link\u001b[0m\u001b[1;33m(\u001b[0m\u001b[1;33m)\u001b[0m\u001b[1;33m\u001b[0m\u001b[1;33m\u001b[0m\u001b[0m\n\u001b[0m\u001b[0;32m     18\u001b[0m \u001b[1;33m\u001b[0m\u001b[0m\n\u001b[0;32m     19\u001b[0m     \u001b[1;32mfor\u001b[0m \u001b[0mj\u001b[0m \u001b[1;32min\u001b[0m \u001b[0mp_link\u001b[0m\u001b[1;33m:\u001b[0m\u001b[1;33m\u001b[0m\u001b[1;33m\u001b[0m\u001b[0m\n",
      "\u001b[1;32m<ipython-input-3-c2e8c1ac8cfe>\u001b[0m in \u001b[0;36mget_link\u001b[1;34m()\u001b[0m\n\u001b[0;32m      4\u001b[0m \u001b[1;33m\u001b[0m\u001b[0m\n\u001b[0;32m      5\u001b[0m     \u001b[1;32mfor\u001b[0m \u001b[0mp_block\u001b[0m \u001b[1;32min\u001b[0m \u001b[0mtemp_li\u001b[0m\u001b[1;33m.\u001b[0m\u001b[0mfind_elements_by_tag_name\u001b[0m\u001b[1;33m(\u001b[0m\u001b[1;34m'li'\u001b[0m\u001b[1;33m)\u001b[0m\u001b[1;33m:\u001b[0m\u001b[1;33m\u001b[0m\u001b[1;33m\u001b[0m\u001b[0m\n\u001b[1;32m----> 6\u001b[1;33m         \u001b[0mp_link\u001b[0m\u001b[1;33m.\u001b[0m\u001b[0mappend\u001b[0m\u001b[1;33m(\u001b[0m\u001b[0mp_block\u001b[0m\u001b[1;33m.\u001b[0m\u001b[0mfind_element_by_tag_name\u001b[0m\u001b[1;33m(\u001b[0m\u001b[1;34m'a'\u001b[0m\u001b[1;33m)\u001b[0m\u001b[1;33m.\u001b[0m\u001b[0mget_attribute\u001b[0m\u001b[1;33m(\u001b[0m\u001b[1;34m'href'\u001b[0m\u001b[1;33m)\u001b[0m\u001b[1;33m)\u001b[0m\u001b[1;33m\u001b[0m\u001b[1;33m\u001b[0m\u001b[0m\n\u001b[0m",
      "\u001b[1;32m~\\anaconda3\\lib\\site-packages\\selenium\\webdriver\\remote\\webelement.py\u001b[0m in \u001b[0;36mfind_element_by_tag_name\u001b[1;34m(self, name)\u001b[0m\n\u001b[0;32m    303\u001b[0m             \u001b[0melement\u001b[0m \u001b[1;33m=\u001b[0m \u001b[0melement\u001b[0m\u001b[1;33m.\u001b[0m\u001b[0mfind_element_by_tag_name\u001b[0m\u001b[1;33m(\u001b[0m\u001b[1;34m'h1'\u001b[0m\u001b[1;33m)\u001b[0m\u001b[1;33m\u001b[0m\u001b[1;33m\u001b[0m\u001b[0m\n\u001b[0;32m    304\u001b[0m         \"\"\"\n\u001b[1;32m--> 305\u001b[1;33m         \u001b[1;32mreturn\u001b[0m \u001b[0mself\u001b[0m\u001b[1;33m.\u001b[0m\u001b[0mfind_element\u001b[0m\u001b[1;33m(\u001b[0m\u001b[0mby\u001b[0m\u001b[1;33m=\u001b[0m\u001b[0mBy\u001b[0m\u001b[1;33m.\u001b[0m\u001b[0mTAG_NAME\u001b[0m\u001b[1;33m,\u001b[0m \u001b[0mvalue\u001b[0m\u001b[1;33m=\u001b[0m\u001b[0mname\u001b[0m\u001b[1;33m)\u001b[0m\u001b[1;33m\u001b[0m\u001b[1;33m\u001b[0m\u001b[0m\n\u001b[0m\u001b[0;32m    306\u001b[0m \u001b[1;33m\u001b[0m\u001b[0m\n\u001b[0;32m    307\u001b[0m     \u001b[1;32mdef\u001b[0m \u001b[0mfind_elements_by_tag_name\u001b[0m\u001b[1;33m(\u001b[0m\u001b[0mself\u001b[0m\u001b[1;33m,\u001b[0m \u001b[0mname\u001b[0m\u001b[1;33m)\u001b[0m\u001b[1;33m:\u001b[0m\u001b[1;33m\u001b[0m\u001b[1;33m\u001b[0m\u001b[0m\n",
      "\u001b[1;32m~\\anaconda3\\lib\\site-packages\\selenium\\webdriver\\remote\\webelement.py\u001b[0m in \u001b[0;36mfind_element\u001b[1;34m(self, by, value)\u001b[0m\n\u001b[0;32m    657\u001b[0m \u001b[1;33m\u001b[0m\u001b[0m\n\u001b[0;32m    658\u001b[0m         return self._execute(Command.FIND_CHILD_ELEMENT,\n\u001b[1;32m--> 659\u001b[1;33m                              {\"using\": by, \"value\": value})['value']\n\u001b[0m\u001b[0;32m    660\u001b[0m \u001b[1;33m\u001b[0m\u001b[0m\n\u001b[0;32m    661\u001b[0m     \u001b[1;32mdef\u001b[0m \u001b[0mfind_elements\u001b[0m\u001b[1;33m(\u001b[0m\u001b[0mself\u001b[0m\u001b[1;33m,\u001b[0m \u001b[0mby\u001b[0m\u001b[1;33m=\u001b[0m\u001b[0mBy\u001b[0m\u001b[1;33m.\u001b[0m\u001b[0mID\u001b[0m\u001b[1;33m,\u001b[0m \u001b[0mvalue\u001b[0m\u001b[1;33m=\u001b[0m\u001b[1;32mNone\u001b[0m\u001b[1;33m)\u001b[0m\u001b[1;33m:\u001b[0m\u001b[1;33m\u001b[0m\u001b[1;33m\u001b[0m\u001b[0m\n",
      "\u001b[1;32m~\\anaconda3\\lib\\site-packages\\selenium\\webdriver\\remote\\webelement.py\u001b[0m in \u001b[0;36m_execute\u001b[1;34m(self, command, params)\u001b[0m\n\u001b[0;32m    631\u001b[0m             \u001b[0mparams\u001b[0m \u001b[1;33m=\u001b[0m \u001b[1;33m{\u001b[0m\u001b[1;33m}\u001b[0m\u001b[1;33m\u001b[0m\u001b[1;33m\u001b[0m\u001b[0m\n\u001b[0;32m    632\u001b[0m         \u001b[0mparams\u001b[0m\u001b[1;33m[\u001b[0m\u001b[1;34m'id'\u001b[0m\u001b[1;33m]\u001b[0m \u001b[1;33m=\u001b[0m \u001b[0mself\u001b[0m\u001b[1;33m.\u001b[0m\u001b[0m_id\u001b[0m\u001b[1;33m\u001b[0m\u001b[1;33m\u001b[0m\u001b[0m\n\u001b[1;32m--> 633\u001b[1;33m         \u001b[1;32mreturn\u001b[0m \u001b[0mself\u001b[0m\u001b[1;33m.\u001b[0m\u001b[0m_parent\u001b[0m\u001b[1;33m.\u001b[0m\u001b[0mexecute\u001b[0m\u001b[1;33m(\u001b[0m\u001b[0mcommand\u001b[0m\u001b[1;33m,\u001b[0m \u001b[0mparams\u001b[0m\u001b[1;33m)\u001b[0m\u001b[1;33m\u001b[0m\u001b[1;33m\u001b[0m\u001b[0m\n\u001b[0m\u001b[0;32m    634\u001b[0m \u001b[1;33m\u001b[0m\u001b[0m\n\u001b[0;32m    635\u001b[0m     \u001b[1;32mdef\u001b[0m \u001b[0mfind_element\u001b[0m\u001b[1;33m(\u001b[0m\u001b[0mself\u001b[0m\u001b[1;33m,\u001b[0m \u001b[0mby\u001b[0m\u001b[1;33m=\u001b[0m\u001b[0mBy\u001b[0m\u001b[1;33m.\u001b[0m\u001b[0mID\u001b[0m\u001b[1;33m,\u001b[0m \u001b[0mvalue\u001b[0m\u001b[1;33m=\u001b[0m\u001b[1;32mNone\u001b[0m\u001b[1;33m)\u001b[0m\u001b[1;33m:\u001b[0m\u001b[1;33m\u001b[0m\u001b[1;33m\u001b[0m\u001b[0m\n",
      "\u001b[1;32m~\\anaconda3\\lib\\site-packages\\selenium\\webdriver\\remote\\webdriver.py\u001b[0m in \u001b[0;36mexecute\u001b[1;34m(self, driver_command, params)\u001b[0m\n\u001b[0;32m    319\u001b[0m         \u001b[0mresponse\u001b[0m \u001b[1;33m=\u001b[0m \u001b[0mself\u001b[0m\u001b[1;33m.\u001b[0m\u001b[0mcommand_executor\u001b[0m\u001b[1;33m.\u001b[0m\u001b[0mexecute\u001b[0m\u001b[1;33m(\u001b[0m\u001b[0mdriver_command\u001b[0m\u001b[1;33m,\u001b[0m \u001b[0mparams\u001b[0m\u001b[1;33m)\u001b[0m\u001b[1;33m\u001b[0m\u001b[1;33m\u001b[0m\u001b[0m\n\u001b[0;32m    320\u001b[0m         \u001b[1;32mif\u001b[0m \u001b[0mresponse\u001b[0m\u001b[1;33m:\u001b[0m\u001b[1;33m\u001b[0m\u001b[1;33m\u001b[0m\u001b[0m\n\u001b[1;32m--> 321\u001b[1;33m             \u001b[0mself\u001b[0m\u001b[1;33m.\u001b[0m\u001b[0merror_handler\u001b[0m\u001b[1;33m.\u001b[0m\u001b[0mcheck_response\u001b[0m\u001b[1;33m(\u001b[0m\u001b[0mresponse\u001b[0m\u001b[1;33m)\u001b[0m\u001b[1;33m\u001b[0m\u001b[1;33m\u001b[0m\u001b[0m\n\u001b[0m\u001b[0;32m    322\u001b[0m             response['value'] = self._unwrap_value(\n\u001b[0;32m    323\u001b[0m                 response.get('value', None))\n",
      "\u001b[1;32m~\\anaconda3\\lib\\site-packages\\selenium\\webdriver\\remote\\errorhandler.py\u001b[0m in \u001b[0;36mcheck_response\u001b[1;34m(self, response)\u001b[0m\n\u001b[0;32m    240\u001b[0m                 \u001b[0malert_text\u001b[0m \u001b[1;33m=\u001b[0m \u001b[0mvalue\u001b[0m\u001b[1;33m[\u001b[0m\u001b[1;34m'alert'\u001b[0m\u001b[1;33m]\u001b[0m\u001b[1;33m.\u001b[0m\u001b[0mget\u001b[0m\u001b[1;33m(\u001b[0m\u001b[1;34m'text'\u001b[0m\u001b[1;33m)\u001b[0m\u001b[1;33m\u001b[0m\u001b[1;33m\u001b[0m\u001b[0m\n\u001b[0;32m    241\u001b[0m             \u001b[1;32mraise\u001b[0m \u001b[0mexception_class\u001b[0m\u001b[1;33m(\u001b[0m\u001b[0mmessage\u001b[0m\u001b[1;33m,\u001b[0m \u001b[0mscreen\u001b[0m\u001b[1;33m,\u001b[0m \u001b[0mstacktrace\u001b[0m\u001b[1;33m,\u001b[0m \u001b[0malert_text\u001b[0m\u001b[1;33m)\u001b[0m\u001b[1;33m\u001b[0m\u001b[1;33m\u001b[0m\u001b[0m\n\u001b[1;32m--> 242\u001b[1;33m         \u001b[1;32mraise\u001b[0m \u001b[0mexception_class\u001b[0m\u001b[1;33m(\u001b[0m\u001b[0mmessage\u001b[0m\u001b[1;33m,\u001b[0m \u001b[0mscreen\u001b[0m\u001b[1;33m,\u001b[0m \u001b[0mstacktrace\u001b[0m\u001b[1;33m)\u001b[0m\u001b[1;33m\u001b[0m\u001b[1;33m\u001b[0m\u001b[0m\n\u001b[0m\u001b[0;32m    243\u001b[0m \u001b[1;33m\u001b[0m\u001b[0m\n\u001b[0;32m    244\u001b[0m     \u001b[1;32mdef\u001b[0m \u001b[0m_value_or_default\u001b[0m\u001b[1;33m(\u001b[0m\u001b[0mself\u001b[0m\u001b[1;33m,\u001b[0m \u001b[0mobj\u001b[0m\u001b[1;33m,\u001b[0m \u001b[0mkey\u001b[0m\u001b[1;33m,\u001b[0m \u001b[0mdefault\u001b[0m\u001b[1;33m)\u001b[0m\u001b[1;33m:\u001b[0m\u001b[1;33m\u001b[0m\u001b[1;33m\u001b[0m\u001b[0m\n",
      "\u001b[1;31mNoSuchElementException\u001b[0m: Message: no such element: Unable to locate element: {\"method\":\"css selector\",\"selector\":\"a\"}\n  (Session info: chrome=81.0.4044.92)\n"
     ]
    }
   ],
   "source": [
    "plays=[]       # 전체 공연정보 리스트\n",
    "plays_type=['GENRE_CON', 'GENRE_ART', 'GENRE_CLA', 'GENRE_EXH']\n",
    "\n",
    "for i in range(0,len(plays_type)):\n",
    "    \n",
    "    # 장르에 따른 '전체보기 - 상품명순' 페이지 접근\n",
    "    driver.get(\"https://ticket.melon.com/concert/index.htm?genreType=\"+plays_type[i])\n",
    "    time.sleep(1)\n",
    "    \n",
    "    p_link=[]       # 장르별 공연 상세페이지 링크 리스트\n",
    "    p_data=[]       # 장르별 공연정보 리스트\n",
    "    \n",
    "    # 최신순으로 정렬\n",
    "    driver.find_element_by_xpath('//*[@id=\"sort_lately_admin\"]/a').click()\n",
    "    \n",
    "    # 각 공연의 상세페이지 링크 p_link에 가져오기\n",
    "    get_link()\n",
    "    \n",
    "    for j in p_link:\n",
    "        \n",
    "        # 상세페이지 링크에 접근\n",
    "        driver.get(j)\n",
    "        time.sleep(0.5)\n",
    "            \n",
    "        # 공연정보 데이터를 p_data에 가져오기\n",
    "        get_data()\n",
    "        \n",
    "        # 전체 공연 리스트에 p_data 추가하기 (이중리스트)\n",
    "        plays.append(p_data)\n"
   ]
  },
  {
   "cell_type": "code",
   "execution_count": null,
   "metadata": {},
   "outputs": [],
   "source": []
  }
 ],
 "metadata": {
  "kernelspec": {
   "display_name": "Python 3",
   "language": "python",
   "name": "python3"
  },
  "language_info": {
   "codemirror_mode": {
    "name": "ipython",
    "version": 3
   },
   "file_extension": ".py",
   "mimetype": "text/x-python",
   "name": "python",
   "nbconvert_exporter": "python",
   "pygments_lexer": "ipython3",
   "version": "3.7.6"
  }
 },
 "nbformat": 4,
 "nbformat_minor": 4
}
